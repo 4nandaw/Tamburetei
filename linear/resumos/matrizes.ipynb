{
 "cells": [
  {
   "cell_type": "markdown",
   "metadata": {},
   "source": [
    "## Índice\n",
    "\n",
    "- [Definições](#Definições)\n",
    "- [Tipos especiais de matrizes](#Tipos)\n",
    "- [Operações com matrizes](#Operações)\n",
    "- [Determinantes](#Determinantes)\n",
    "- [Matriz Inversa](#Inversa)\n",
    "\n",
    "### Definições\n",
    "\n",
    "Chamamos de **matriz** uma tabela de elementos dispostos em linhas e colunas. Por exemplo,\n",
    "<p align=\"center\"><img src=\"https://wikimedia.org/api/rest_v1/media/math/render/svg/6d0d1b28f9824f459991332e30550afd276c4963\"></p>\n",
    "\n",
    "Costumamos usar letras maiúsculas para fazer referência a uma matriz, assim acima temos a matriz A de 2 linhas por 3 colunas.\n",
    "\n",
    "Representaremos uma matriz A de *m* linhas e *n* colunas por:\n",
    "\n",
    "<p align=\"center\"><img src=\"https://matematicabasica.net/wp-content/uploads/2019/02/matriz-generica.png\" width=\"300\"></p>\n",
    "\n",
    "E denotamos por *A<sub>m x n</sub>*.\n",
    "\n",
    "Dada uma matriz *A<sub>m x n</sub>*, fazemos referência aos elementos da matriz por *a<sub>ij</sub>*. De modo que  *a<sub>ij</sub>* se refere ao elemento da i-ésima linha e j-ésima coluna. Na nossa primeira matriz de exemplo, temos que *a<sub>11</sub> = 1*, *a<sub>12</sub> = 2*, *a<sub>13</sub> = 3*, e suscessivamente.\n",
    "\n",
    "### Tipos\n",
    "\n",
    "Algumas matrizes devido a caractéristicas especiais, recebem uma classificação, a seguir estão os tipos especiais de matrizes:\n",
    "\n",
    "1. **Matriz Quadrada**\n",
    "\n",
    "Dizemos que uma matriz *A<sub>m x n</sub>* é quadrada, quando *m = n*. Isso significa que o número de linhas será igual ao número de colunas. Podemos representar este tipo de matriz por *A<sub>n</sub>*. Dizemos então que *A* é uma matriz de ordem *n*.\n",
    "\n",
    "<p align=\"center\"><img src=\"https://www.infoescola.com/wp-content/uploads/2013/11/matrizes4.jpg\" width=\"300\"></p>\n",
    "\n",
    "2. **Matriz nula**\n",
    "\n",
    "3. **Matriz coluna**\n",
    "\n",
    "4. **Matriz linha**\n",
    "\n",
    "5. **Matriz diagonal**\n",
    "\n",
    "6. **Matriz identidade**\n",
    "\n",
    "7. **Matriz triangular**\n",
    "\n",
    "Uma matriz de ondem n (quadrada) é triangular quando todos os elementos acima ou abaixo da diagonal principal são nulos (iguais à zero). Caso *a<sub>ij</sub> = 0* se *i > j*, dizemos que a matriz é **triangular superior**. E se *a<sub>ij</sub> = 0* se *i < j*, dizemos que a matriz é **triangular inferior**.\n",
    "\n",
    "<p align=\"center\"><img src=\"https://www.infoescola.com/wp-content/uploads/2013/11/matriz-triangular.jpg\"></p>\n",
    "\n",
    "8. **Matriz simétrica**\n",
    "\n",
    "9. **Matriz oposta**\n",
    "\n",
    "10. **Matriz antissimétrica**\n",
    "\n",
    "### Operações\n",
    "\n",
    "### Determinantes\n",
    "\n",
    "### Inversa"
   ]
  },
  {
   "cell_type": "code",
   "execution_count": null,
   "metadata": {},
   "outputs": [],
   "source": []
  }
 ],
 "metadata": {
  "kernelspec": {
   "display_name": "Python 3",
   "language": "python",
   "name": "python3"
  },
  "language_info": {
   "codemirror_mode": {
    "name": "ipython",
    "version": 3
   },
   "file_extension": ".py",
   "mimetype": "text/x-python",
   "name": "python",
   "nbconvert_exporter": "python",
   "pygments_lexer": "ipython3",
   "version": "3.5.2"
  }
 },
 "nbformat": 4,
 "nbformat_minor": 2
}
