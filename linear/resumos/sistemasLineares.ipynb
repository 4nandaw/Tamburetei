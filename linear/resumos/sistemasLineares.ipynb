{
 "cells": [
  {
   "cell_type": "markdown",
   "metadata": {},
   "source": [
    "## Índice\n",
    "\n",
    "- [Definições](#Definições)\n",
    "- [Operações elementares nas linhas](#Operações)\n",
    "- [Escalonamento](#Escalonamento)\n",
    "- [Solução de sistemas lineares](#Solução)\n",
    "- [Regra de Cramer](#Cramer)\n",
    "\n",
    "### Definições\n",
    "\n",
    "### Operações\n",
    "\n",
    "### Escalonamento\n",
    "\n",
    "### Solução\n",
    "\n",
    "### Cramer"
   ]
  },
  {
   "cell_type": "code",
   "execution_count": null,
   "metadata": {},
   "outputs": [],
   "source": []
  }
 ],
 "metadata": {
  "kernelspec": {
   "display_name": "Python 3",
   "language": "python",
   "name": "python3"
  },
  "language_info": {
   "codemirror_mode": {
    "name": "ipython",
    "version": 3
   },
   "file_extension": ".py",
   "mimetype": "text/x-python",
   "name": "python",
   "nbconvert_exporter": "python",
   "pygments_lexer": "ipython3",
   "version": "3.5.2"
  }
 },
 "nbformat": 4,
 "nbformat_minor": 2
}
