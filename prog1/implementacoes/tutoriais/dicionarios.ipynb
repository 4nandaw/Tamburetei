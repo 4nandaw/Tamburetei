{
  "nbformat": 4,
  "nbformat_minor": 0,
  "metadata": {
    "colab": {
      "name": "dicionarios.ipynb",
      "provenance": []
    },
    "kernelspec": {
      "name": "python3",
      "display_name": "Python 3"
    }
  },
  "cells": [
    {
      "cell_type": "markdown",
      "metadata": {
        "colab_type": "text",
        "id": "PVLaBM2oKzRC"
      },
      "source": [
        "# Dicionários\n",
        "\n",
        "Um dicionário no Python é uma coleção desordenada formada por pares chave-valor, onde a chave precisa ser um tipo imutável (string, tuplas ou tipos numéricos) e os valores podem ser mutáveis ou imutáveis.\n",
        "\n",
        "## Inicializando um Dicionário no Python\n",
        "\n",
        "Em Python, um dicionário pode ser inicializado de duas formas:\n",
        "\n",
        "```python\n",
        "# Declarando o dicionário para só depois adicionar chaves-valor\n",
        "nome_do_dicionario = {}\n",
        "nome_do_dicionario['Chave1'] = 'Valor1'\n",
        "nome_do_dicionario['Chave2'] = 'Valor2'\n",
        "\n",
        "Ou\n",
        "\n",
        "# Declarando o dicionário já com seus pares \n",
        "nome_do_dicionario = {'Chave1': 'Valor1', 'Chave2': 'Valor2'}\n",
        "```\n",
        "\n",
        "Alguns exemplos de declaração podem ser vistos abaixo:"
      ]
    },
    {
      "cell_type": "code",
      "metadata": {
        "colab_type": "code",
        "id": "XvsgyjGLmBok",
        "outputId": "8822f114-885b-4933-f692-ea13b1971bdd",
        "colab": {
          "base_uri": "https://localhost:8080/",
          "height": 52
        }
      },
      "source": [
        "# Declara o dicionario já admitindo alguns pares chave-valor\n",
        "autores_musicas = {'Ze Ramalho': 'Frevo Mulher', 'Chico Cesar': 'Mama Africa'}\n",
        "\n",
        "# Imprime o valor para o qual a chave 'Zé Ramalho' aponta\n",
        "print (autores_musicas['Ze Ramalho'])\n",
        "# Imprime o valor para o qual a chave 'Chico César' aponta\n",
        "print (autores_musicas['Chico Cesar'])"
      ],
      "execution_count": 47,
      "outputs": [
        {
          "output_type": "stream",
          "text": [
            "Frevo Mulher\n",
            "Mama Africa\n"
          ],
          "name": "stdout"
        }
      ]
    },
    {
      "cell_type": "code",
      "metadata": {
        "colab_type": "code",
        "id": "0Dkmb7MG5mjq",
        "outputId": "53284867-3c14-48bc-b85c-639a4062b46c",
        "colab": {
          "base_uri": "https://localhost:8080/",
          "height": 34
        }
      },
      "source": [
        "# Adiciona outro par chave-valor ao dicionário autores_musicas\n",
        "autores_musicas['Xand Aviao'] = 'Nota Dez'\n",
        "\n",
        "# Imprime o valor para o qual a chave 'Xand Avião' aponta\n",
        "print (autores_musicas['Xand Aviao'])"
      ],
      "execution_count": 48,
      "outputs": [
        {
          "output_type": "stream",
          "text": [
            "Nota Dez\n"
          ],
          "name": "stdout"
        }
      ]
    },
    {
      "cell_type": "markdown",
      "metadata": {
        "colab_type": "text",
        "id": "CzJ5T8NS7uVN"
      },
      "source": [
        "No caso abaixo, a chave recebe uma lista como valor."
      ]
    },
    {
      "cell_type": "code",
      "metadata": {
        "colab_type": "code",
        "id": "nFNBtqcd6_a4",
        "outputId": "1ecf6fba-4419-491f-9ed7-c3f32c2499b7",
        "colab": {
          "base_uri": "https://localhost:8080/",
          "height": 34
        }
      },
      "source": [
        "# Adiciona outro par chave-valor ao dicionario autores_musicas\n",
        "autores_musicas['Rihanna'] = ['Diamonds', 'Needed Me', 'Kiss It Better']\n",
        "\n",
        "# Imprime o valor para o qual a chave 'Rihanna' aponta\n",
        "print (autores_musicas['Rihanna'])"
      ],
      "execution_count": 49,
      "outputs": [
        {
          "output_type": "stream",
          "text": [
            "['Diamonds', 'Needed Me', 'Kiss It Better']\n"
          ],
          "name": "stdout"
        }
      ]
    },
    {
      "cell_type": "markdown",
      "metadata": {
        "colab_type": "text",
        "id": "iIL1WM_m8Les"
      },
      "source": [
        "Como o valor é uma lista, seus elementos podem ser acessados por iteração."
      ]
    },
    {
      "cell_type": "code",
      "metadata": {
        "colab_type": "code",
        "id": "vJDqEk_k8Tbk",
        "outputId": "45b5ea7e-f9af-4240-b37c-5067e5852b76",
        "colab": {
          "base_uri": "https://localhost:8080/",
          "height": 69
        }
      },
      "source": [
        "# Guarda a lista de músicas que está contida no dicionário com a chave 'Rihanna' \n",
        "# na variável musicas_rihanna \n",
        "musicas_rihanna = autores_musicas['Rihanna']\n",
        "\n",
        "# Itera sobre os indices da lista\n",
        "for indice in range(len(musicas_rihanna)):\n",
        "  # Imprime os elementos da lista que tem como chave 'Rihanna'\n",
        "  print (musicas_rihanna[indice])"
      ],
      "execution_count": 50,
      "outputs": [
        {
          "output_type": "stream",
          "text": [
            "Diamonds\n",
            "Needed Me\n",
            "Kiss It Better\n"
          ],
          "name": "stdout"
        }
      ]
    },
    {
      "cell_type": "markdown",
      "metadata": {
        "colab_type": "text",
        "id": "ix3RsIts9UIS"
      },
      "source": [
        "## Métodos importantes para iterar sobre dicionários\n",
        "\n",
        "Nativamente, o Python fornece métodos para iterar sobre os dicionários, sendo eles listados na tabela abaixo:\n",
        "\n",
        "Método | O que faz\n",
        "-------------|-----------------\n",
        "items() | retorna uma lista de tuplas com as chaves e os valores \n",
        "keys() | retorna uma lista contendo somente as chaves\n",
        "values() | retorna uma lista contendo somente os valores\n",
        " \n",
        " Mostrando na prática:"
      ]
    },
    {
      "cell_type": "code",
      "metadata": {
        "colab_type": "code",
        "id": "g19PsSZi_bdt",
        "outputId": "2be13979-c7f7-416a-8a66-f6ba73112e86",
        "colab": {
          "base_uri": "https://localhost:8080/",
          "height": 69
        }
      },
      "source": [
        "# Declara o dicionário glossario_computacao\n",
        "glossario_computacao = {'P1': 'Programacao 1', 'LP1': 'Laboratorio de Programacao 1'}\n",
        "\n",
        "# Imprime o retorno dos métodos para o dicionário glossario_computacao\n",
        "print (\"Método items() =>\", list(glossario_computacao.items()))\n",
        "print (\"Método keys() =>\", list(glossario_computacao.keys()))\n",
        "print (\"Método values() =>\", list(glossario_computacao.values()))"
      ],
      "execution_count": 51,
      "outputs": [
        {
          "output_type": "stream",
          "text": [
            "Método items() => [('P1', 'Programacao 1'), ('LP1', 'Laboratorio de Programacao 1')]\n",
            "Método keys() => ['P1', 'LP1']\n",
            "Método values() => ['Programacao 1', 'Laboratorio de Programacao 1']\n"
          ],
          "name": "stdout"
        }
      ]
    },
    {
      "cell_type": "markdown",
      "metadata": {
        "colab_type": "text",
        "id": "-RGObR0TBFSQ"
      },
      "source": [
        "Agora utilizando o *for* para iterar sobre as coleções retornadas pelos métodos."
      ]
    },
    {
      "cell_type": "code",
      "metadata": {
        "colab_type": "code",
        "id": "pJabJzKZBQgf",
        "outputId": "355c08a7-319e-4dcf-c3b9-b8ba1170cc8d",
        "colab": {
          "base_uri": "https://localhost:8080/",
          "height": 52
        }
      },
      "source": [
        "# Para iterar sobre a lista de tuplas chave-valor gerada pelo método items()\n",
        "# são necessárias duas variáveis de controle\n",
        "for sigla, significado in glossario_computacao.items():\n",
        "  print (\"Chave:\", sigla, \"=>\", \"Valor:\", significado)"
      ],
      "execution_count": 52,
      "outputs": [
        {
          "output_type": "stream",
          "text": [
            "Chave: P1 => Valor: Programacao 1\n",
            "Chave: LP1 => Valor: Laboratorio de Programacao 1\n"
          ],
          "name": "stdout"
        }
      ]
    },
    {
      "cell_type": "markdown",
      "metadata": {
        "colab_type": "text",
        "id": "YMvRtJ0sDMdb"
      },
      "source": [
        "Como o retorno do método keys é uma __lista__, é possível iterar da mesma maneira."
      ]
    },
    {
      "cell_type": "code",
      "metadata": {
        "colab_type": "code",
        "id": "SFVuYiOCCC6-",
        "outputId": "f5b772b4-7b2b-42c1-d1b5-60576f085d36",
        "colab": {
          "base_uri": "https://localhost:8080/",
          "height": 52
        }
      },
      "source": [
        "# Por elemento\n",
        "for sigla in glossario_computacao.keys():\n",
        "  print (sigla)\n",
        "  "
      ],
      "execution_count": 53,
      "outputs": [
        {
          "output_type": "stream",
          "text": [
            "P1\n",
            "LP1\n"
          ],
          "name": "stdout"
        }
      ]
    },
    {
      "cell_type": "code",
      "metadata": {
        "colab_type": "code",
        "id": "MT1cppnhDJW7",
        "outputId": "5fd59c8e-02c2-4db1-dc14-4941d378eaac",
        "colab": {
          "base_uri": "https://localhost:8080/",
          "height": 52
        }
      },
      "source": [
        "# Por índice\n",
        "lista_chaves = list(glossario_computacao.keys())\n",
        "\n",
        "for indice in range(len(lista_chaves)):\n",
        "  print (lista_chaves[indice])"
      ],
      "execution_count": 54,
      "outputs": [
        {
          "output_type": "stream",
          "text": [
            "P1\n",
            "LP1\n"
          ],
          "name": "stdout"
        }
      ]
    },
    {
      "cell_type": "markdown",
      "metadata": {
        "colab_type": "text",
        "id": "xzIh8y9EDicL"
      },
      "source": [
        "Por último, o método *values()*."
      ]
    },
    {
      "cell_type": "code",
      "metadata": {
        "colab_type": "code",
        "id": "BOFFubXlDuq6",
        "outputId": "20892bc9-8c2d-471a-d5b2-b9bfd4bbf39d",
        "colab": {
          "base_uri": "https://localhost:8080/",
          "height": 52
        }
      },
      "source": [
        "# Por elemento\n",
        "for significado in glossario_computacao.values():\n",
        "  print (significado)\n",
        "  "
      ],
      "execution_count": 55,
      "outputs": [
        {
          "output_type": "stream",
          "text": [
            "Programacao 1\n",
            "Laboratorio de Programacao 1\n"
          ],
          "name": "stdout"
        }
      ]
    },
    {
      "cell_type": "code",
      "metadata": {
        "colab_type": "code",
        "id": "n_X48hCMELjh",
        "outputId": "dd34802a-e600-4162-84f0-0128d8639ba7",
        "colab": {
          "base_uri": "https://localhost:8080/",
          "height": 52
        }
      },
      "source": [
        "# Por índice\n",
        "lista_valores = list(glossario_computacao.values())\n",
        "\n",
        "for indice in range(len(lista_valores)):\n",
        "  print (lista_valores[indice])"
      ],
      "execution_count": 56,
      "outputs": [
        {
          "output_type": "stream",
          "text": [
            "Programacao 1\n",
            "Laboratorio de Programacao 1\n"
          ],
          "name": "stdout"
        }
      ]
    }
  ]
}