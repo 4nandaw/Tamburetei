{
 "cells": [
  {
   "cell_type": "markdown",
   "metadata": {
    "colab_type": "text",
    "id": "PVLaBM2oKzRC"
   },
   "source": [
    "# Dicionários\n",
    "\n",
    "Um dicionário no Python é uma coleção desordenada formada por pares chave-valor, onde a chave precisa ser um tipo imutável (string, tuplas ou tipos numéricos) e os valores podem ser mutáveis ou imutáveis.\n",
    "\n",
    "## Inicializando um Dicionário no Python\n",
    "\n",
    "Em Python, um dicionário pode ser inicializado de duas formas:\n",
    "\n",
    "```python\n",
    "# Declarando o dicionário para só depois adicionar chaves-valor\n",
    "nome_do_dicionario = {}\n",
    "nome_do_dicionario['Chave1'] = 'Valor1'\n",
    "nome_do_dicionario['Chave2'] = 'Valor2'\n",
    "\n",
    "Ou\n",
    "\n",
    "# Declarando o dicionário já com seus pares \n",
    "nome_do_dicionario = {'Chave1': 'Valor1', 'Chave2': 'Valor2'}\n",
    "```\n",
    "\n",
    "Alguns exemplos de declaração podem ser vistos abaixo:"
   ]
  },
  {
   "cell_type": "code",
   "execution_count": 1,
   "metadata": {
    "colab": {
     "base_uri": "https://localhost:8080/",
     "height": 51
    },
    "colab_type": "code",
    "executionInfo": {
     "elapsed": 757,
     "status": "ok",
     "timestamp": 1551488463590,
     "user": {
      "displayName": "Jonathan Tavares",
      "photoUrl": "https://lh6.googleusercontent.com/--OzIWmaOAqo/AAAAAAAAAAI/AAAAAAAAAAc/URLBcCmXFPU/s64/photo.jpg",
      "userId": "11936614983095389371"
     },
     "user_tz": 180
    },
    "id": "XvsgyjGLmBok",
    "outputId": "2d31de7d-1da6-4a95-c27a-231d578813da"
   },
   "outputs": [
    {
     "name": "stdout",
     "output_type": "stream",
     "text": [
      "Frevo Mulher\n",
      "Mama Africa\n"
     ]
    }
   ],
   "source": [
    "# Declara o dicionario já admitindo alguns pares chave-valor\n",
    "autores_musicas = {'Ze Ramalho': 'Frevo Mulher', 'Chico Cesar': 'Mama Africa'}\n",
    "\n",
    "# Imprime o valor para o qual a chave 'Zé Ramalho' aponta\n",
    "print autores_musicas['Ze Ramalho']\n",
    "# Imprime o valor para o qual a chave 'Chico César' aponta\n",
    "print autores_musicas['Chico Cesar']"
   ]
  },
  {
   "cell_type": "code",
   "execution_count": 2,
   "metadata": {
    "colab": {
     "base_uri": "https://localhost:8080/",
     "height": 34
    },
    "colab_type": "code",
    "executionInfo": {
     "elapsed": 779,
     "status": "ok",
     "timestamp": 1551488472225,
     "user": {
      "displayName": "Jonathan Tavares",
      "photoUrl": "https://lh6.googleusercontent.com/--OzIWmaOAqo/AAAAAAAAAAI/AAAAAAAAAAc/URLBcCmXFPU/s64/photo.jpg",
      "userId": "11936614983095389371"
     },
     "user_tz": 180
    },
    "id": "0Dkmb7MG5mjq",
    "outputId": "bc828510-3b72-4d05-e7e1-541f64da10c5"
   },
   "outputs": [
    {
     "name": "stdout",
     "output_type": "stream",
     "text": [
      "Nota Dez\n"
     ]
    }
   ],
   "source": [
    "# Adiciona outro par chave-valor ao dicionário autores_musicas\n",
    "autores_musicas['Xand Aviao'] = 'Nota Dez'\n",
    "\n",
    "# Imprime o valor para o qual a chave 'Xand Avião' aponta\n",
    "print autores_musicas['Xand Aviao']"
   ]
  },
  {
   "cell_type": "markdown",
   "metadata": {
    "colab_type": "text",
    "id": "CzJ5T8NS7uVN"
   },
   "source": [
    "No caso abaixo, a chave recebe uma lista como valor."
   ]
  },
  {
   "cell_type": "code",
   "execution_count": 3,
   "metadata": {
    "colab": {
     "base_uri": "https://localhost:8080/",
     "height": 34
    },
    "colab_type": "code",
    "executionInfo": {
     "elapsed": 774,
     "status": "ok",
     "timestamp": 1551488789490,
     "user": {
      "displayName": "Jonathan Tavares",
      "photoUrl": "https://lh6.googleusercontent.com/--OzIWmaOAqo/AAAAAAAAAAI/AAAAAAAAAAc/URLBcCmXFPU/s64/photo.jpg",
      "userId": "11936614983095389371"
     },
     "user_tz": 180
    },
    "id": "nFNBtqcd6_a4",
    "outputId": "f4774674-8f15-4b16-ff64-55509948ce20"
   },
   "outputs": [
    {
     "name": "stdout",
     "output_type": "stream",
     "text": [
      "['Diamonds', 'Needed Me', 'Kiss It Better']\n"
     ]
    }
   ],
   "source": [
    "# Adiciona outro par chave-valor ao dicionario autores_musicas\n",
    "autores_musicas['Rihanna'] = ['Diamonds', 'Needed Me', 'Kiss It Better']\n",
    "\n",
    "# Imprime o valor para o qual a chave 'Rihanna' aponta\n",
    "print autores_musicas['Rihanna']"
   ]
  },
  {
   "cell_type": "markdown",
   "metadata": {
    "colab_type": "text",
    "id": "iIL1WM_m8Les"
   },
   "source": [
    "Como o valor é uma lista, seus elementos podem ser acessados por iteração."
   ]
  },
  {
   "cell_type": "code",
   "execution_count": 4,
   "metadata": {
    "colab": {
     "base_uri": "https://localhost:8080/",
     "height": 68
    },
    "colab_type": "code",
    "executionInfo": {
     "elapsed": 924,
     "status": "ok",
     "timestamp": 1551488989492,
     "user": {
      "displayName": "Jonathan Tavares",
      "photoUrl": "https://lh6.googleusercontent.com/--OzIWmaOAqo/AAAAAAAAAAI/AAAAAAAAAAc/URLBcCmXFPU/s64/photo.jpg",
      "userId": "11936614983095389371"
     },
     "user_tz": 180
    },
    "id": "vJDqEk_k8Tbk",
    "outputId": "fe52183f-27e2-49b3-fbae-a66d2e22005e"
   },
   "outputs": [
    {
     "name": "stdout",
     "output_type": "stream",
     "text": [
      "Diamonds\n",
      "Needed Me\n",
      "Kiss It Better\n"
     ]
    }
   ],
   "source": [
    "# Guarda a lista de músicas que está contida no dicionário com a chave 'Rihanna' \n",
    "# na variável musicas_rihanna \n",
    "musicas_rihanna = autores_musicas['Rihanna']\n",
    "\n",
    "# Itera sobre os indices da lista\n",
    "for indice in range(len(musicas_rihanna)):\n",
    "  # Imprime os elementos da lista que tem como chave 'Rihanna'\n",
    "  print musicas_rihanna[indice]"
   ]
  },
  {
   "cell_type": "markdown",
   "metadata": {
    "colab_type": "text",
    "id": "ix3RsIts9UIS"
   },
   "source": [
    "## Métodos importantes para iterar sobre dicionários\n",
    "\n",
    "Nativamente, o Python fornece métodos para iterar sobre os dicionários, sendo eles listados na tabela abaixo:\n",
    "\n",
    "Método | O que faz\n",
    "-------------|-----------------\n",
    "items() | retorna uma lista de tuplas com as chaves e os valores \n",
    "keys() | retorna uma lista contendo somente as chaves\n",
    "values() | retorna uma lista contendo somente os valores\n",
    " \n",
    " Mostrando na prática:"
   ]
  },
  {
   "cell_type": "code",
   "execution_count": 5,
   "metadata": {
    "colab": {
     "base_uri": "https://localhost:8080/",
     "height": 68
    },
    "colab_type": "code",
    "executionInfo": {
     "elapsed": 836,
     "status": "ok",
     "timestamp": 1551490071172,
     "user": {
      "displayName": "Jonathan Tavares",
      "photoUrl": "https://lh6.googleusercontent.com/--OzIWmaOAqo/AAAAAAAAAAI/AAAAAAAAAAc/URLBcCmXFPU/s64/photo.jpg",
      "userId": "11936614983095389371"
     },
     "user_tz": 180
    },
    "id": "g19PsSZi_bdt",
    "outputId": "4999598e-05ed-4550-da6d-c6c5c52c59ed"
   },
   "outputs": [
    {
     "name": "stdout",
     "output_type": "stream",
     "text": [
      "Método items() => [('P1', 'Programacao 1'), ('LP1', 'Laboratorio de Programacao 1')]\n",
      "Método keys() => ['P1', 'LP1']\n",
      "Método values() => ['Programacao 1', 'Laboratorio de Programacao 1']\n"
     ]
    }
   ],
   "source": [
    "# Declara o dicionário glossario_computacao\n",
    "glossario_computacao = {'P1': 'Programacao 1', 'LP1': 'Laboratorio de Programacao 1'}\n",
    "\n",
    "# Imprime o retorno dos métodos para o dicionário glossario_computacao\n",
    "print \"Método items() =>\", glossario_computacao.items()\n",
    "print \"Método keys() =>\", glossario_computacao.keys()\n",
    "print \"Método values() =>\", glossario_computacao.values()"
   ]
  },
  {
   "cell_type": "markdown",
   "metadata": {
    "colab_type": "text",
    "id": "-RGObR0TBFSQ"
   },
   "source": [
    "Agora utilizando o *for* para iterar sobre as coleções retornadas pelos métodos."
   ]
  },
  {
   "cell_type": "code",
   "execution_count": 6,
   "metadata": {
    "colab": {
     "base_uri": "https://localhost:8080/",
     "height": 51
    },
    "colab_type": "code",
    "executionInfo": {
     "elapsed": 753,
     "status": "ok",
     "timestamp": 1551490346597,
     "user": {
      "displayName": "Jonathan Tavares",
      "photoUrl": "https://lh6.googleusercontent.com/--OzIWmaOAqo/AAAAAAAAAAI/AAAAAAAAAAc/URLBcCmXFPU/s64/photo.jpg",
      "userId": "11936614983095389371"
     },
     "user_tz": 180
    },
    "id": "pJabJzKZBQgf",
    "outputId": "ab3d5005-53ef-42ca-f248-1efec56ff16b"
   },
   "outputs": [
    {
     "name": "stdout",
     "output_type": "stream",
     "text": [
      "Chave: P1 => Valor: Programacao 1\n",
      "Chave: LP1 => Valor: Laboratorio de Programacao 1\n"
     ]
    }
   ],
   "source": [
    "# Para iterar sobre a lista de tuplas chave-valor gerada pelo método items()\n",
    "# são necessárias duas variáveis de controle\n",
    "for sigla, significado in glossario_computacao.items():\n",
    "  print \"Chave:\", sigla, \"=>\", \"Valor:\", significado"
   ]
  },
  {
   "cell_type": "markdown",
   "metadata": {
    "colab_type": "text",
    "id": "YMvRtJ0sDMdb"
   },
   "source": [
    "Como o retorno do método keys é uma __lista__, é possível iterar da mesma maneira."
   ]
  },
  {
   "cell_type": "code",
   "execution_count": 7,
   "metadata": {
    "colab": {
     "base_uri": "https://localhost:8080/",
     "height": 51
    },
    "colab_type": "code",
    "executionInfo": {
     "elapsed": 756,
     "status": "ok",
     "timestamp": 1551490873344,
     "user": {
      "displayName": "Jonathan Tavares",
      "photoUrl": "https://lh6.googleusercontent.com/--OzIWmaOAqo/AAAAAAAAAAI/AAAAAAAAAAc/URLBcCmXFPU/s64/photo.jpg",
      "userId": "11936614983095389371"
     },
     "user_tz": 180
    },
    "id": "SFVuYiOCCC6-",
    "outputId": "1401d3bc-484a-434a-ed22-4cf5a9f9285f"
   },
   "outputs": [
    {
     "name": "stdout",
     "output_type": "stream",
     "text": [
      "P1\n",
      "LP1\n"
     ]
    }
   ],
   "source": [
    "# Por elemento\n",
    "for sigla in glossario_computacao.keys():\n",
    "  print sigla\n",
    "  "
   ]
  },
  {
   "cell_type": "code",
   "execution_count": 8,
   "metadata": {
    "colab": {
     "base_uri": "https://localhost:8080/",
     "height": 51
    },
    "colab_type": "code",
    "executionInfo": {
     "elapsed": 787,
     "status": "ok",
     "timestamp": 1551490689621,
     "user": {
      "displayName": "Jonathan Tavares",
      "photoUrl": "https://lh6.googleusercontent.com/--OzIWmaOAqo/AAAAAAAAAAI/AAAAAAAAAAc/URLBcCmXFPU/s64/photo.jpg",
      "userId": "11936614983095389371"
     },
     "user_tz": 180
    },
    "id": "MT1cppnhDJW7",
    "outputId": "1754f0a4-14c4-4bdd-d7db-1f03a723a1da"
   },
   "outputs": [
    {
     "name": "stdout",
     "output_type": "stream",
     "text": [
      "P1\n",
      "LP1\n"
     ]
    }
   ],
   "source": [
    "# Por índice\n",
    "lista_chaves = glossario_computacao.keys()\n",
    "\n",
    "for indice in range(len(lista_chaves)):\n",
    "  print lista_chaves[indice]"
   ]
  },
  {
   "cell_type": "markdown",
   "metadata": {
    "colab_type": "text",
    "id": "xzIh8y9EDicL"
   },
   "source": [
    "Por último, o método *values()*."
   ]
  },
  {
   "cell_type": "code",
   "execution_count": 9,
   "metadata": {
    "colab": {
     "base_uri": "https://localhost:8080/",
     "height": 51
    },
    "colab_type": "code",
    "executionInfo": {
     "elapsed": 770,
     "status": "ok",
     "timestamp": 1551490887258,
     "user": {
      "displayName": "Jonathan Tavares",
      "photoUrl": "https://lh6.googleusercontent.com/--OzIWmaOAqo/AAAAAAAAAAI/AAAAAAAAAAc/URLBcCmXFPU/s64/photo.jpg",
      "userId": "11936614983095389371"
     },
     "user_tz": 180
    },
    "id": "BOFFubXlDuq6",
    "outputId": "ea6f0ca6-7fb8-4205-8c75-6c2aebb7817a"
   },
   "outputs": [
    {
     "name": "stdout",
     "output_type": "stream",
     "text": [
      "Programacao 1\n",
      "Laboratorio de Programacao 1\n"
     ]
    }
   ],
   "source": [
    "# Por elemento\n",
    "for significado in glossario_computacao.values():\n",
    "  print significado\n",
    "  "
   ]
  },
  {
   "cell_type": "code",
   "execution_count": 10,
   "metadata": {
    "colab": {
     "base_uri": "https://localhost:8080/",
     "height": 51
    },
    "colab_type": "code",
    "executionInfo": {
     "elapsed": 759,
     "status": "ok",
     "timestamp": 1551490964034,
     "user": {
      "displayName": "Jonathan Tavares",
      "photoUrl": "https://lh6.googleusercontent.com/--OzIWmaOAqo/AAAAAAAAAAI/AAAAAAAAAAc/URLBcCmXFPU/s64/photo.jpg",
      "userId": "11936614983095389371"
     },
     "user_tz": 180
    },
    "id": "n_X48hCMELjh",
    "outputId": "48772544-326b-4211-ee24-6f4e9539c155"
   },
   "outputs": [
    {
     "name": "stdout",
     "output_type": "stream",
     "text": [
      "Programacao 1\n",
      "Laboratorio de Programacao 1\n"
     ]
    }
   ],
   "source": [
    "# Por índice\n",
    "lista_valores = glossario_computacao.values()\n",
    "\n",
    "for indice in range(len(lista_valores)):\n",
    "  print lista_valores[indice]"
   ]
  }
 ],
 "metadata": {
  "colab": {
   "name": "dicionarios.ipynb",
   "provenance": [],
   "version": "0.3.2"
  },
  "kernelspec": {
   "display_name": "Python 2",
   "language": "python",
   "name": "python2"
  },
  "language_info": {
   "codemirror_mode": {
    "name": "ipython",
    "version": 2
   },
   "file_extension": ".py",
   "mimetype": "text/x-python",
   "name": "python",
   "nbconvert_exporter": "python",
   "pygments_lexer": "ipython2",
   "version": "2.7.12"
  }
 },
 "nbformat": 4,
 "nbformat_minor": 1
}
