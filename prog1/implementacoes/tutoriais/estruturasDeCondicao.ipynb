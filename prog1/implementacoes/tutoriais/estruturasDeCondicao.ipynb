{
  "nbformat": 4,
  "nbformat_minor": 0,
  "metadata": {
    "kernelspec": {
      "name": "python3",
      "display_name": "Python 3"
    },
    "colab": {
      "name": "estruturasDeCondicao.ipynb",
      "provenance": [],
      "collapsed_sections": []
    }
  },
  "cells": [
    {
      "cell_type": "markdown",
      "metadata": {
        "id": "spYQTZ8wokYw",
        "colab_type": "text"
      },
      "source": [
        "# Estruturas de Condição"
      ]
    },
    {
      "cell_type": "markdown",
      "metadata": {
        "id": "-K7ndNuGokYy",
        "colab_type": "text"
      },
      "source": [
        "Uma estrutura de condição verifica uma condição e, se ela for verdadeira, irá executar um comando ou um bloco de código. Estruturas de condição são usadas para controlar diversos fluxos que uma aplicação pode ter.\n",
        "\n",
        "```\n",
        "SE condição\n",
        "ENTÃO comando\n",
        "```\n",
        "\n",
        "Para criamos condições existem **operadores** de comparação, que nos permitem comparar características de dois valores, podendo retornar dois únicos valores possívels: *VERDADEIRO (**TRUE**)* ou *FALSO (**FALSE**)*.\n",
        "\n",
        "| Operador | Significado  | Ex. que retorna verdadeiro  | Ex. que retorna falso  \n",
        "| :------: | :------:| :-----:|:-----:|\n",
        "| **==**| Verifica a igualdade entre dois valores | 2 **==** 2 | 2 **==** 3\n",
        "| **!=**    | Verifica a desigualdade entre dois valores |  2 **!=** 3 | 2 **!=** 2\n",
        "| **>**      | Verifica se o primeiro valor é maior que o segundo |  3 **>** 2 | 2 **>** 3 \n",
        "| **<**      | Verifica se o primeiro valor é menor que o segundo |  2 **<** 3 | 3 **<** 2 \n",
        "| **>=**      | Verifica se o primeiro valor é maior ou igual que o segundo |  2 **>=** 2 | 2 **>=** 3\n",
        "| **<=**      | Verifica se o primeiro valor é menor ou igual que o segundo |  2 **<=** 2 | 3 **<=** 2\n",
        "| **<=**      | Verifica se o primeiro valor é menor ou igual que o segundo |  2 **<=** 2 | 3 **<=** 2\n",
        "| **in**      | Verifica se o primeiro valor está dentro do segundo |  \"a\" **in** \"banana | \"o\" **in** \"banana\""
      ]
    },
    {
      "cell_type": "markdown",
      "metadata": {
        "id": "f7J4hqd8okYz",
        "colab_type": "text"
      },
      "source": [
        "## Sintaxe\n",
        "\n",
        "Em Python, para representar o *se*, utilizamos *if* seguido da condição e *dois pontos*, embaixo colocamos o código de maneira *identada* que será executado caso a condição seja verdadeira.\n",
        "\n",
        "```python\n",
        "if (<condicao>):\n",
        "    <codigo_que_sera_executado_se_for_VERDADEIRO>\n",
        "```\n",
        "\n",
        "### Estrutura condicional simples\n",
        "\n",
        "Na simples temos apenar uma condição, e assim, apenas um fluxo a ser seguido.\n",
        "\n",
        "```python\n",
        "if (<condicao>):\n",
        "    <codigo_que_sera_executado_se_for_VERDADEIRO>\n",
        "```\n",
        "\n",
        "### Estrutura condicional composta\n",
        "\n",
        "Na composta, temos uma condição a mais que é o **ELSE**, que indica o que será executado caso a condição anterior seja falsa.\n",
        "\n",
        "```python\n",
        "if (<condicao>):\n",
        "    <codigo_que_sera_executado_se_for_VERDADEIRO>\n",
        "else:\n",
        "    <codigo_que_sera_executado_se_for_FALSO>\n",
        "```\n",
        "\n",
        "### Estrutura condicional aninhada\n",
        "Na condição aninhada são várias condições que acompanham umas às outra, onde se tem o *IF*, **ELIF** e *ELSE*. O **ELIF** significa \"caso a condição anterior não tenha sido satisfeita, verifique essa\".\n",
        "\n",
        "```python\n",
        "if (<condicao1>):\n",
        "    <codigo_que_sera_executado_se_for_VERDADEIRO>\n",
        "elif (<condicao2>):\n",
        "    <codigo_que_sera_executado_se_condicao1_for_falsa_e_condicao2_verdadeira> \n",
        "else:\n",
        "    <codigo_que_sera_executado_se_as_duas_condicoes_forem_falsas>\n",
        "```\n",
        "\n",
        "Palavra-chave | Significado\n",
        ":---: | :---:\n",
        "**if** | Se\n",
        "**else** | Se não...\n",
        "**elif** | Se não e se ..."
      ]
    },
    {
      "cell_type": "markdown",
      "metadata": {
        "id": "SvRrs0wDokY0",
        "colab_type": "text"
      },
      "source": [
        "## Exemplos"
      ]
    },
    {
      "cell_type": "markdown",
      "metadata": {
        "id": "2mBTLtG-okY1",
        "colab_type": "text"
      },
      "source": [
        "### Se variável é igual a 2\n",
        "\n",
        "Nesse exemplo, iremos declarar duas variáveis e montaremos uma estrutura de condição simples para imprimir quem é igual a 2 e quem não é."
      ]
    },
    {
      "cell_type": "markdown",
      "metadata": {
        "id": "L6Aj_fJZokY2",
        "colab_type": "text"
      },
      "source": [
        "Declarando as variáveis:"
      ]
    },
    {
      "cell_type": "code",
      "metadata": {
        "id": "X1nGu5dVokY3",
        "colab_type": "code",
        "colab": {}
      },
      "source": [
        "a = 4\n",
        "b = 2"
      ],
      "execution_count": 0,
      "outputs": []
    },
    {
      "cell_type": "markdown",
      "metadata": {
        "id": "GN6JX1UgokY6",
        "colab_type": "text"
      },
      "source": [
        "Verificando com **a**:"
      ]
    },
    {
      "cell_type": "code",
      "metadata": {
        "id": "xUag0F8wokY7",
        "colab_type": "code",
        "colab": {
          "base_uri": "https://localhost:8080/",
          "height": 34
        },
        "outputId": "cccb87d0-26c0-4271-aa03-d37766180ed3"
      },
      "source": [
        "if a == 2:\n",
        "    print(\"É igual a 2\")\n",
        "else: \n",
        "    print(\"Não é igual a 2\")"
      ],
      "execution_count": 3,
      "outputs": [
        {
          "output_type": "stream",
          "text": [
            "Não é igual a 2\n"
          ],
          "name": "stdout"
        }
      ]
    },
    {
      "cell_type": "markdown",
      "metadata": {
        "id": "wwAZekMNokY_",
        "colab_type": "text"
      },
      "source": [
        "Verificando com **b**:"
      ]
    },
    {
      "cell_type": "code",
      "metadata": {
        "id": "mkOBMPr5okZA",
        "colab_type": "code",
        "colab": {
          "base_uri": "https://localhost:8080/",
          "height": 34
        },
        "outputId": "1225626a-e24c-40f6-c87e-bf4bc5acf166"
      },
      "source": [
        "if b == 2:\n",
        "    print(\"É igual a 2\")\n",
        "else: \n",
        "    print(\"Não é igual a 2\")"
      ],
      "execution_count": 4,
      "outputs": [
        {
          "output_type": "stream",
          "text": [
            "É igual a 2\n"
          ],
          "name": "stdout"
        }
      ]
    },
    {
      "cell_type": "markdown",
      "metadata": {
        "id": "Ahx-lG_LokZC",
        "colab_type": "text"
      },
      "source": [
        "### Verificando se é menor de idade ou idoso\n",
        "\n",
        "Nesse exemplo, iremos declarar uma variável **idade** e iremos verificar se o indivíduo é menor de idade, idoso (mais de 65 anos) ou nenhum dos dois."
      ]
    },
    {
      "cell_type": "code",
      "metadata": {
        "id": "NDoVL4ykokZD",
        "colab_type": "code",
        "colab": {
          "base_uri": "https://localhost:8080/",
          "height": 34
        },
        "outputId": "01551f07-1cf3-4dc9-bab6-605208777aa8"
      },
      "source": [
        "idade = 40\n",
        "\n",
        "if idade < 18:\n",
        "    print(\"É menor de idade\") \n",
        "elif idade >= 65:\n",
        "    print(\"É maior de idade\")\n",
        "else:\n",
        "    print(\"Não é nem menor de idade, nem idoso\")"
      ],
      "execution_count": 5,
      "outputs": [
        {
          "output_type": "stream",
          "text": [
            "Não é nem menor de idade, nem idoso\n"
          ],
          "name": "stdout"
        }
      ]
    }
  ]
}