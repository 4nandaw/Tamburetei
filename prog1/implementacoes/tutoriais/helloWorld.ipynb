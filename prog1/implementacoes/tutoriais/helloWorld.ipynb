{
  "nbformat": 4,
  "nbformat_minor": 0,
  "metadata": {
    "colab": {
      "name": "helloWorld.ipynb",
      "provenance": [],
      "collapsed_sections": []
    },
    "kernelspec": {
      "name": "python3",
      "display_name": "Python 3"
    }
  },
  "cells": [
    {
      "cell_type": "markdown",
      "metadata": {
        "id": "IKfhDtEt8TyL",
        "colab_type": "text"
      },
      "source": [
        "O Primeiro Programa\n",
        "=================  \n",
        "Para quem nunca estudou uma linguagem de programação específica e pretende aprendê-la, existe o famoso azar do primeiro programa. Trata-se de uma convenção de aprendizado em que o estudante precisa imprimir uma linda mensagem \"Hello World!\" como seu primeiro programa. Há quem diga que, não obedecida a regra, o programador cairá no azar e não conseguirá aprender a linguagem.\n",
        "\n",
        "Dadas essas circunstâncias, por que arriscar?"
      ]
    },
    {
      "cell_type": "markdown",
      "metadata": {
        "id": "pa9UA66wVKfI",
        "colab_type": "text"
      },
      "source": [
        "# Hello World em Python"
      ]
    },
    {
      "cell_type": "code",
      "metadata": {
        "id": "CzvSKu6CVVuj",
        "colab_type": "code",
        "outputId": "18f636fd-6716-437e-88fc-e12e8066dfc1",
        "colab": {
          "base_uri": "https://localhost:8080/",
          "height": 34
        }
      },
      "source": [
        "# coding: utf-8\n",
        "\n",
        "# O comando print imprime o texto na saída padrão \n",
        "print(\"Hello World!\")"
      ],
      "execution_count": 2,
      "outputs": [
        {
          "output_type": "stream",
          "text": [
            "Hello World!\n"
          ],
          "name": "stdout"
        }
      ]
    }
  ]
}