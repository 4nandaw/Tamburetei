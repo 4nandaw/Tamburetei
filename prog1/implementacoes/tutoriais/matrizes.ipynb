{
  "nbformat": 4,
  "nbformat_minor": 0,
  "metadata": {
    "kernelspec": {
      "name": "python3",
      "display_name": "Python 3"
    },
    "colab": {
      "name": "matrizes.ipynb",
      "provenance": [],
      "collapsed_sections": []
    }
  },
  "cells": [
    {
      "cell_type": "markdown",
      "metadata": {
        "colab_type": "text",
        "id": "WpzpsMsncWz2"
      },
      "source": [
        "Matrizes\n",
        "====== \n",
        "\n",
        "Os *vetores bidimensionais*, ou matrizes, são estruturas de dados que representam um conjunto de valores referenciáveis pelo mesmo nome e individualizados entre si através de sua posição de *linha* e *coluna* dentro desse conjunto. A linguagem Python não suporta listas multidimensionais (listas que podem ter duas ou mais dimensões) diretamente, mas qualquer tabela, incluindo matrizes, pode ser representada como uma lista de listas (uma lista, onde cada elemento é, por sua vez, uma lista).\n",
        "\n",
        "## Estrutura\n",
        "\n",
        "Veja abaixo a estrutura de uma matriz M de tamanho `n x m`, com `n = 3` e `m = 5`, com seus elementos representados por a*ij*, onde o `i` representa o índice da linha e `j` representa o índice da coluna para o elemento em questão:\n",
        "\n",
        "| Matriz M  | j = 0   | j = 1   | j = 2    | j = 3    | j = 4    |\n",
        "|:--------: | :-----: | :-----: | :------: | :------: | :------: |\n",
        "| **i = 0** | 8       | 2       | -8       | 4        | 0        |\n",
        "| **i = 1** | -7      | 9       | 2        | -3       | 5        |\n",
        "| **i = 2** | 6       | -5      | 10       | -6       | 1        |\n",
        "\n",
        "Exemplos: `a12 = 2`, `a04 = 0` e `a10 = -7`...\n",
        "\n",
        "## Criação\n",
        "\n",
        "Observe abaixo um exemplo de programa que cria uma tabela numérica com duas linhas e três colunas."
      ]
    },
    {
      "cell_type": "code",
      "metadata": {
        "id": "UQpMbd8grMgA",
        "colab_type": "code",
        "colab": {
          "base_uri": "https://localhost:8080/",
          "height": 51
        },
        "outputId": "a402f6e2-0632-422c-e522-2de658f53506"
      },
      "source": [
        "matriz = [[7, 3, 9], [2, 1, 4]]\n",
        "# Note que cada lista contida dentro da lista maior é uma linha.\n",
        "\n",
        "print(matriz[0])\n",
        "print(matriz[1])"
      ],
      "execution_count": 1,
      "outputs": [
        {
          "output_type": "stream",
          "text": [
            "[7, 3, 9]\n",
            "[2, 1, 4]\n"
          ],
          "name": "stdout"
        }
      ]
    },
    {
      "cell_type": "markdown",
      "metadata": {
        "colab_type": "text",
        "id": "jIgY48HLrMgE"
      },
      "source": [
        "O primeiro e segundo elementos da nossa matriz de nome `matriz` aqui - `a[0]` e `a[1]` - são ambos listas que contém números, `[7, 3, 9]` e `[2, 1, 4]`, respectivamente. Os seus elementos são: `a[0][0] == 7`, `a[0][1] == 3`, `a[0][2] == 9`, `a[1][0] == 2`, `a[1][1] == 1` e `a[1][2] == 4`.\n",
        "\n",
        "Agora, suponha que dois números sejam dados, o número de linhas `n` e o de columas `m`, e você tenha que criar uma matriz de tamanho `n` × `m` com todas as posições preenchidas com algum valor, por exemplo, 0:"
      ]
    },
    {
      "cell_type": "code",
      "metadata": {
        "id": "C2NqatDXrMgF",
        "colab_type": "code",
        "colab": {
          "base_uri": "https://localhost:8080/",
          "height": 34
        },
        "outputId": "83c4560d-7bc6-4228-98be-20a8a65c5132"
      },
      "source": [
        "n = 3 # Número de linhas\n",
        "m = 4 # Número de colunas\n",
        "\n",
        "valor = 0 # Valor de todas as posições da matriz\n",
        "\n",
        "minhaMatriz = []\n",
        "\n",
        "for i in range(n):\n",
        "    \n",
        "    # Criação de uma lista auxiliar para receber os valores\n",
        "    lista = []\n",
        "    \n",
        "    for j in range(m):\n",
        "        # Passando os valores para a lista auxiliar\n",
        "        lista.append(valor)\n",
        "    \n",
        "    # Adiciona a lista auxiliar na matriz\n",
        "    minhaMatriz.append(lista)\n",
        "\n",
        "print(minhaMatriz)"
      ],
      "execution_count": 2,
      "outputs": [
        {
          "output_type": "stream",
          "text": [
            "[[0, 0, 0, 0], [0, 0, 0, 0], [0, 0, 0, 0]]\n"
          ],
          "name": "stdout"
        }
      ]
    },
    {
      "cell_type": "markdown",
      "metadata": {
        "colab_type": "text",
        "id": "NZ5m-6TfrMgH"
      },
      "source": [
        "Ou simplesmente, pode utilizar multiplicação de listas da seguinte forma (produzirá o mesmo resultado):"
      ]
    },
    {
      "cell_type": "code",
      "metadata": {
        "id": "icPk5un2rMgI",
        "colab_type": "code",
        "colab": {
          "base_uri": "https://localhost:8080/",
          "height": 34
        },
        "outputId": "f4f41839-311c-45b4-9cab-c34acac3778b"
      },
      "source": [
        "minhaMatriz = [[valor] * m] * n\n",
        "print(minhaMatriz) "
      ],
      "execution_count": 5,
      "outputs": [
        {
          "output_type": "stream",
          "text": [
            "[[0, 0, 0, 0], [0, 0, 0, 0], [0, 0, 0, 0]]\n"
          ],
          "name": "stdout"
        }
      ]
    },
    {
      "cell_type": "markdown",
      "metadata": {
        "colab_type": "text",
        "id": "fs750pBErMgL"
      },
      "source": [
        "Como a representação de matrizes em Python é uma lista, assim como seus elementos, todas as operações de **inserção**, **remoção** e **manipulação** são as mesmas que as de uma lista comum.\n",
        "\n",
        "\n",
        "## Iteração\n",
        "\n",
        "Para iterar sobre uma lista bidimensional, normalmente usa-se loops aninhados. O modelo mais comum é o que o primeiro loop percorre o número da linha, o segundo loop percorre os elementos dentro de uma linha. Por exemplo, é assim que você exibe a lista numérica bidimensional na tela:"
      ]
    },
    {
      "cell_type": "code",
      "metadata": {
        "id": "UCnnABt3rMgM",
        "colab_type": "code",
        "colab": {
          "base_uri": "https://localhost:8080/",
          "height": 153
        },
        "outputId": "778f5600-abec-4ea4-b913-146af9c17f6b"
      },
      "source": [
        "'''\n",
        "    A nossa matriz é:\n",
        "    \n",
        "    [7, 3, 9]\n",
        "    [2, 1, 4]\n",
        "'''\n",
        "\n",
        "# Iteração sobre a matriz criada no primeiro exemplo\n",
        "for linha in range(len(matriz)):\n",
        "    print(f\"Elementos da linha {linha}: \")\n",
        "    \n",
        "    for coluna in range(len(matriz[linha])):\n",
        "        print(matriz[linha][coluna])"
      ],
      "execution_count": 6,
      "outputs": [
        {
          "output_type": "stream",
          "text": [
            "Elementos da linha 0: \n",
            "7\n",
            "3\n",
            "9\n",
            "Elementos da linha 1: \n",
            "2\n",
            "1\n",
            "4\n"
          ],
          "name": "stdout"
        }
      ]
    },
    {
      "cell_type": "markdown",
      "metadata": {
        "colab_type": "text",
        "id": "D8oEBmUTrMgP"
      },
      "source": [
        "Mas você também pode iterar iniciando pelas colunas, da seguinte maneira:"
      ]
    },
    {
      "cell_type": "code",
      "metadata": {
        "id": "VRDjPzXnrMgQ",
        "colab_type": "code",
        "colab": {
          "base_uri": "https://localhost:8080/",
          "height": 170
        },
        "outputId": "87d17c05-d6f4-45d5-cbfe-6ec2af714440"
      },
      "source": [
        "'''\n",
        "    A nossa matriz é:\n",
        "    \n",
        "    [7, 3, 9]\n",
        "    [2, 1, 4]\n",
        "'''\n",
        "\n",
        "# Iteração sobre a matriz criada no primeiro exemplo\n",
        "for coluna in range(len(matriz[0])):\n",
        "    print(f\"Elementos da coluna {coluna}: \")\n",
        "    \n",
        "    for linha in range(len(matriz)):\n",
        "        print(matriz[linha][coluna])"
      ],
      "execution_count": 7,
      "outputs": [
        {
          "output_type": "stream",
          "text": [
            "Elementos da coluna 0: \n",
            "7\n",
            "2\n",
            "Elementos da coluna 1: \n",
            "3\n",
            "1\n",
            "Elementos da coluna 2: \n",
            "9\n",
            "4\n"
          ],
          "name": "stdout"
        }
      ]
    }
  ]
}