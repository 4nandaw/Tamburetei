{
  "nbformat": 4,
  "nbformat_minor": 0,
  "metadata": {
    "kernelspec": {
      "name": "python3",
      "display_name": "Python 3"
    },
    "colab": {
      "name": "listas.ipynb",
      "provenance": []
    }
  },
  "cells": [
    {
      "cell_type": "markdown",
      "metadata": {
        "id": "NWDnw_vX_QBH",
        "colab_type": "text"
      },
      "source": [
        "# Listas"
      ]
    },
    {
      "cell_type": "markdown",
      "metadata": {
        "id": "a0QpxoOE_QBO",
        "colab_type": "text"
      },
      "source": [
        "Durante o desenvolvimento de software, independente de plataforma ou linguagem, é comum a necessidade de lidar com estruturas de dados, como listas. Por exemplo, podem ser empregadas para armazenar dados como seus contatos do zap, tarefas, etc.\n",
        "\n",
        "Os itens em uma lista são organizados de forma linear, na qual cada um pode ser acessado a partir de um índice, que representa sua posição na coleção (iniciando em zero).\n",
        "\n",
        "## Estrutura\n",
        "\n",
        "É muito importante entender como os dados são armazenados nessa estrutura, por isso, observe abaixo um exemplo que ilusta esse modelo.\n",
        "\n",
        "| Índices  | Conteúdo      | Tipo     |\n",
        "|:-------: | :-----------: | :------: |\n",
        "| **0**    | \"string 1\"    | string   |\n",
        "| **1**    | \"string 2\"    | string   |\n",
        "| **2**    | 278           | integer  |\n",
        "| **3**    | 1.3           | float    |\n",
        "\n",
        "A tabela acima representa a estrutura de uma lista que possui quatro elementos. Note que o primeiro elemento não está indexado pelo valor `1`, e sim pelo `0`, assim como o último está indexado pelo `3`, não pelo `4`. Ou seja, em uma lista com ***n*** itens, o último deles estará na posição ***n - 1***.\n",
        "\n",
        "As listas em Python, ao contrário de linguagens como Java, podem armazenar elementos que podem ser de tipos diferentes. Como foi possível perceber no exemplo anterior, a lista está guardando dois valores do tipo *string*, um valor *inteiro* e outro valor em *ponto flutuante*. Você pode armazenar até listas dentro de listas!\n",
        "\n",
        "## Criação\n",
        "\n",
        "Em Python, uma lista é representada como uma sequência de elementos separados por vírgula e dentro de colchetes [], assim, uma lista vazia, pode ser representada por colchetes sem nenhum conteúdo.\n",
        "\n",
        "Para iniciar uma lista vazia, fazemos:"
      ]
    },
    {
      "cell_type": "code",
      "metadata": {
        "id": "vV9WkG0f_QBS",
        "colab_type": "code",
        "colab": {
          "base_uri": "https://localhost:8080/",
          "height": 34
        },
        "outputId": "c3c89c21-e484-4e4b-c69a-0e3dccd6015a"
      },
      "source": [
        "minhaLista = []\n",
        "print (minhaLista)"
      ],
      "execution_count": 72,
      "outputs": [
        {
          "output_type": "stream",
          "text": [
            "[]\n"
          ],
          "name": "stdout"
        }
      ]
    },
    {
      "cell_type": "markdown",
      "metadata": {
        "id": "UzpHqKRi_QBh",
        "colab_type": "text"
      },
      "source": [
        "Para inicializar uma lista com alguns elementos, fazemos:"
      ]
    },
    {
      "cell_type": "code",
      "metadata": {
        "id": "3J-5QAmv_QBl",
        "colab_type": "code",
        "colab": {
          "base_uri": "https://localhost:8080/",
          "height": 34
        },
        "outputId": "5ebe920c-ef9a-4cc0-9df7-128c21eba9b7"
      },
      "source": [
        "minhaLista = [\"Lucas\", \"Thayanne\", \"Fanny\", \"Matheus\"]\n",
        "print (minhaLista)"
      ],
      "execution_count": 73,
      "outputs": [
        {
          "output_type": "stream",
          "text": [
            "['Lucas', 'Thayanne', 'Fanny', 'Matheus']\n"
          ],
          "name": "stdout"
        }
      ]
    },
    {
      "cell_type": "markdown",
      "metadata": {
        "id": "XTGl0Tvt_QBt",
        "colab_type": "text"
      },
      "source": [
        "Observe abaixo a lista que acabamos de criar de uma maneira mais detalhada:\n",
        "\n",
        "| Posição  | Conteúdo      |\n",
        "|:-------: | :-----------: |\n",
        "| **0**    | \"Lucas\"       |\n",
        "| **1**    | \"Thayanne\"    |\n",
        "| **2**    | \"Fanny\"       |\n",
        "| **3**    | \"Matheus\"     |\n",
        "\n",
        "## Manipulação\n",
        "\n",
        "A lista que acabamos de criar é composta por quatro elementos, cujos índices variam de zero a três. Por exemplo, o primeiro objeto (no índice 0) é a string \"Lucas\". Tendo em mente essa organização interna, podemos acessar cada um dos elementos utilizando a seguinte sintaxe:"
      ]
    },
    {
      "cell_type": "code",
      "metadata": {
        "id": "zYG2mk2E_QBx",
        "colab_type": "code",
        "colab": {
          "base_uri": "https://localhost:8080/",
          "height": 34
        },
        "outputId": "8410bac0-9688-4bc6-aa4c-e39b9005641a"
      },
      "source": [
        "minhaLista[0]"
      ],
      "execution_count": 74,
      "outputs": [
        {
          "output_type": "execute_result",
          "data": {
            "text/plain": [
              "'Lucas'"
            ]
          },
          "metadata": {
            "tags": []
          },
          "execution_count": 74
        }
      ]
    },
    {
      "cell_type": "code",
      "metadata": {
        "id": "TxKGeuoI_QB5",
        "colab_type": "code",
        "colab": {
          "base_uri": "https://localhost:8080/",
          "height": 34
        },
        "outputId": "5f03eb78-5811-4374-e840-8d01a930b128"
      },
      "source": [
        "minhaLista[1]"
      ],
      "execution_count": 75,
      "outputs": [
        {
          "output_type": "execute_result",
          "data": {
            "text/plain": [
              "'Thayanne'"
            ]
          },
          "metadata": {
            "tags": []
          },
          "execution_count": 75
        }
      ]
    },
    {
      "cell_type": "markdown",
      "metadata": {
        "id": "kp5yzSwc_QCC",
        "colab_type": "text"
      },
      "source": [
        "Nos dois exemplos acima, acessamos as posições 0 e 1, respectivamente, da lista que criamos. Os resultados foram \"Lucas\" e \"Thayanne\", pois estes são os elementos correspondentes aos respectivos índices na lista.\n",
        "\n",
        "Podemos, inclusive, alterar o valor de um dos elementos da lista acessando pelo seu valor, como mostrado no exemplo abaixo:"
      ]
    },
    {
      "cell_type": "code",
      "metadata": {
        "id": "_EBsXKSu_QCF",
        "colab_type": "code",
        "colab": {
          "base_uri": "https://localhost:8080/",
          "height": 52
        },
        "outputId": "3ffcf61d-7d74-4e42-ac68-6c134898b4cf"
      },
      "source": [
        "print (\"Antes: \" + minhaLista[3]) # imprimindo o valor antes da alteração\n",
        "\n",
        "minhaLista[3] = \"Julio\"\n",
        "\n",
        "print (\"Depois: \" + minhaLista[3]) # imprimindo o valor depois da alteração"
      ],
      "execution_count": 76,
      "outputs": [
        {
          "output_type": "stream",
          "text": [
            "Antes: Matheus\n",
            "Depois: Julio\n"
          ],
          "name": "stdout"
        }
      ]
    },
    {
      "cell_type": "markdown",
      "metadata": {
        "id": "tSdsB11I_QCN",
        "colab_type": "text"
      },
      "source": [
        "**ATENÇÃO**: Se tentar acessar um índice inexistente em uma lista, você obterá um `IndexError: list index out of range` e, consequentemente, ocorrerá uma quebra na execução de seu programa."
      ]
    },
    {
      "cell_type": "markdown",
      "metadata": {
        "id": "Y20OcxS5_QCQ",
        "colab_type": "text"
      },
      "source": [
        "### Comprimento de uma lista\n",
        "\n",
        "Para sabermos o comprimento de uma lista, usamos a seguinte sintaxe:"
      ]
    },
    {
      "cell_type": "code",
      "metadata": {
        "id": "RS8-alvy_QCS",
        "colab_type": "code",
        "colab": {
          "base_uri": "https://localhost:8080/",
          "height": 34
        },
        "outputId": "4b848633-533c-4681-f6d0-91f5702ea5c1"
      },
      "source": [
        "len(minhaLista)"
      ],
      "execution_count": 77,
      "outputs": [
        {
          "output_type": "execute_result",
          "data": {
            "text/plain": [
              "4"
            ]
          },
          "metadata": {
            "tags": []
          },
          "execution_count": 77
        }
      ]
    },
    {
      "cell_type": "markdown",
      "metadata": {
        "id": "GYYtsNgl_QCb",
        "colab_type": "text"
      },
      "source": [
        "A função *len*, como mostra o exemplo acima, retorna o valor 4, indicando que o tamanho da lista que criamos possui 4 elementos."
      ]
    },
    {
      "cell_type": "markdown",
      "metadata": {
        "id": "JzG2j-VH_QCd",
        "colab_type": "text"
      },
      "source": [
        "### Concatenação e multiplicação\n",
        "\n",
        "É possível, também, concatenar listas por meio do operador `+` e multiplicá-las por **um inteiro *n***, a fim de gerar ***n*** cópias dos itens da sua lista, por meio do operador `*`.\n",
        "\n",
        "**Detalhe**: você já concatenava listas através da concatenação de strings, pois elas nada mais são do que listas de caracteres.\n",
        "\n",
        "Exemplo de concatenação de listas:"
      ]
    },
    {
      "cell_type": "code",
      "metadata": {
        "id": "_6N7VVxi_QCf",
        "colab_type": "code",
        "colab": {
          "base_uri": "https://localhost:8080/",
          "height": 34
        },
        "outputId": "f8020d64-08d2-4c99-bd0a-09a22debf180"
      },
      "source": [
        "segundaLista = [\"Juliano\", \"Roberta\"]\n",
        "\n",
        "# imprimindo o valor dessas duas listas concatenadas, sem alterar o conteúdo de nenhuma das duas.\n",
        "print (minhaLista + segundaLista)"
      ],
      "execution_count": 78,
      "outputs": [
        {
          "output_type": "stream",
          "text": [
            "['Lucas', 'Thayanne', 'Fanny', 'Julio', 'Juliano', 'Roberta']\n"
          ],
          "name": "stdout"
        }
      ]
    },
    {
      "cell_type": "markdown",
      "metadata": {
        "id": "59zHZawr_QCm",
        "colab_type": "text"
      },
      "source": [
        "Exemplo de multiplicação por inteiro de uma lista:"
      ]
    },
    {
      "cell_type": "code",
      "metadata": {
        "id": "x-Oe57fz_QCo",
        "colab_type": "code",
        "colab": {
          "base_uri": "https://localhost:8080/",
          "height": 225
        },
        "outputId": "cfbc81bb-9eb4-48fc-db84-db0f12792122"
      },
      "source": [
        "minhaLista * 3 # multiplicando a lista criada nos exemplos por 3"
      ],
      "execution_count": 79,
      "outputs": [
        {
          "output_type": "execute_result",
          "data": {
            "text/plain": [
              "['Lucas',\n",
              " 'Thayanne',\n",
              " 'Fanny',\n",
              " 'Julio',\n",
              " 'Lucas',\n",
              " 'Thayanne',\n",
              " 'Fanny',\n",
              " 'Julio',\n",
              " 'Lucas',\n",
              " 'Thayanne',\n",
              " 'Fanny',\n",
              " 'Julio']"
            ]
          },
          "metadata": {
            "tags": []
          },
          "execution_count": 79
        }
      ]
    },
    {
      "cell_type": "markdown",
      "metadata": {
        "id": "kfxk7gtP_QCy",
        "colab_type": "text"
      },
      "source": [
        "### Verificando a existência de elementos em uma lista\n",
        "\n",
        "Em vários casos, é necessário verificar se um elemento está contido dentro de uma lista, para isso Python oferece o operador `in`, que indicará `True` caso o elemento exista dentro da lista, e `False` caso contrário. Por exemplo:"
      ]
    },
    {
      "cell_type": "code",
      "metadata": {
        "id": "yymmf4K8_QC0",
        "colab_type": "code",
        "colab": {
          "base_uri": "https://localhost:8080/",
          "height": 34
        },
        "outputId": "54d246f5-bf7f-44dc-8b56-258c3636b460"
      },
      "source": [
        "\"Lucas\" in minhaLista # A string \"Lucas\" existe na lista."
      ],
      "execution_count": 80,
      "outputs": [
        {
          "output_type": "execute_result",
          "data": {
            "text/plain": [
              "True"
            ]
          },
          "metadata": {
            "tags": []
          },
          "execution_count": 80
        }
      ]
    },
    {
      "cell_type": "code",
      "metadata": {
        "id": "4QqANzrx_QC4",
        "colab_type": "code",
        "colab": {
          "base_uri": "https://localhost:8080/",
          "height": 34
        },
        "outputId": "005fc38d-d00a-4d4b-a5c0-4b3f05e3a65b"
      },
      "source": [
        "\"Guilherme\" in minhaLista # A string \"Guilherme\" não existe na lista."
      ],
      "execution_count": 81,
      "outputs": [
        {
          "output_type": "execute_result",
          "data": {
            "text/plain": [
              "False"
            ]
          },
          "metadata": {
            "tags": []
          },
          "execution_count": 81
        }
      ]
    },
    {
      "cell_type": "markdown",
      "metadata": {
        "id": "7VcExjDc_QDB",
        "colab_type": "text"
      },
      "source": [
        "**Detalhe**: em alguns momentos das disciplinas de *Programação 1* e *Laboratório de Programação 1* da UFCG, você terá que implementar seu próprio *in* para identificar se um elemento está contido dentro da lista, pois em várias linguagens de programação não existem implementações de algo similar e essa é uma das várias facilidades que Python oferece. Além do fato de que, como você está aprendendo, é interessante que entenda como tal funcionalidade é construída."
      ]
    },
    {
      "cell_type": "markdown",
      "metadata": {
        "id": "YlArAi-j_QDD",
        "colab_type": "text"
      },
      "source": [
        "### Inserindo e removendo elementos de listas\n",
        "\n",
        "Até agora, vimos operadores e funções que retornam resultados a partir de uma lista, porém não fazem alterações drásticas em sua estrutura. Agora, vamos ver métodos pertencentes ao tipo lista de Python que nos permitem inserir ou remover elementos.\n",
        "\n",
        "O primeiro deles é o `append`, que adiciona um novo elemento ao final da lista. Observe abaixo um exemplo de utilização."
      ]
    },
    {
      "cell_type": "code",
      "metadata": {
        "id": "LpLad6b6_QDF",
        "colab_type": "code",
        "colab": {
          "base_uri": "https://localhost:8080/",
          "height": 52
        },
        "outputId": "1d095481-b5ed-4694-a478-6d0c5c74a166"
      },
      "source": [
        "print (\"Lista antes da adição de um elemento na última posição: \" + str(minhaLista))\n",
        "\n",
        "minhaLista.append(\"Marquinhos\") # Adiciona \"Marquinhos\" na última posição da lista.\n",
        "\n",
        "print (\"Lista depois da adição de um elemento na última posição: \" + str(minhaLista))"
      ],
      "execution_count": 82,
      "outputs": [
        {
          "output_type": "stream",
          "text": [
            "Lista antes da adição de um elemento na última posição: ['Lucas', 'Thayanne', 'Fanny', 'Julio']\n",
            "Lista depois da adição de um elemento na última posição: ['Lucas', 'Thayanne', 'Fanny', 'Julio', 'Marquinhos']\n"
          ],
          "name": "stdout"
        }
      ]
    },
    {
      "cell_type": "markdown",
      "metadata": {
        "id": "r920IDEk_QDP",
        "colab_type": "text"
      },
      "source": [
        "Um novo elemento foi inserido na nossa lista, a string `\"Marquinhos\"`, e agora o tamanho dela passa a ser 5. O índice correspondente a esse último elemento adicionado agora é 4."
      ]
    },
    {
      "cell_type": "code",
      "metadata": {
        "scrolled": true,
        "id": "AtC2dxH3_QDR",
        "colab_type": "code",
        "colab": {
          "base_uri": "https://localhost:8080/",
          "height": 34
        },
        "outputId": "010c9a48-a34a-49e0-9e11-0e3378dc7613"
      },
      "source": [
        "print (minhaLista[4]) "
      ],
      "execution_count": 83,
      "outputs": [
        {
          "output_type": "stream",
          "text": [
            "Marquinhos\n"
          ],
          "name": "stdout"
        }
      ]
    },
    {
      "cell_type": "markdown",
      "metadata": {
        "id": "423slUcu_QDY",
        "colab_type": "text"
      },
      "source": [
        "Caso você queira fazer a inserção em uma posição específica, é o caso para o método `insert` que, além do elemento a ser inserido, recebe também o índice que ele deve assumir, como mostra o código abaixo:"
      ]
    },
    {
      "cell_type": "code",
      "metadata": {
        "id": "6CxY0V7T_QDa",
        "colab_type": "code",
        "colab": {
          "base_uri": "https://localhost:8080/",
          "height": 52
        },
        "outputId": "4fd1f108-c146-4c69-8c38-a6011ce4dbbb"
      },
      "source": [
        "print (\"Lista antes da adição de um elemento na posição 1: \" + str(minhaLista))\n",
        "# Imprimindo a lista antes de um novo elemento ser adicionado.\n",
        "\n",
        "minhaLista.insert(1, \"Abelardo\") \n",
        "# Adiciona \"Abelardo\" na posição 1 da lista, e empurra todas as outras uma posição adiante\n",
        "\n",
        "print (\"Lista depois da adição de um elemento na posição 1: \" + str(minhaLista))\n",
        "# Imprimindo a lista depois da inserção do novo elemento."
      ],
      "execution_count": 84,
      "outputs": [
        {
          "output_type": "stream",
          "text": [
            "Lista antes da adição de um elemento na posição 1: ['Lucas', 'Thayanne', 'Fanny', 'Julio', 'Marquinhos']\n",
            "Lista depois da adição de um elemento na posição 1: ['Lucas', 'Abelardo', 'Thayanne', 'Fanny', 'Julio', 'Marquinhos']\n"
          ],
          "name": "stdout"
        }
      ]
    },
    {
      "cell_type": "markdown",
      "metadata": {
        "id": "IYx_wMi1_QDg",
        "colab_type": "text"
      },
      "source": [
        "O elemento `\"Abelardo\"` foi inserido logo depois de `\"Lucas\"` (posição 0), e agora passa a ocupar a posição 1 da lista. `\"Thayanne\"`, que ocupava essa posição, agora ocupa a posição 2, `\"Fanny\"`, que ocupava a posição 2, passa a ocupar a posição 3 e assim por diante. O tamanho total da lista agora passa a ser 6."
      ]
    },
    {
      "cell_type": "markdown",
      "metadata": {
        "id": "FJAtbcyx_QDi",
        "colab_type": "text"
      },
      "source": [
        "Para remover elementos de uma lista, pode ser utilizado o método `pop`. Se não for passado nenhum índice como parâmetro desse método, ele irá remover o último item da lista e o retornará como resultado da operação. Caso seja necessário remover um índice específico, basta informá-lo como argumento. Por exemplo:"
      ]
    },
    {
      "cell_type": "code",
      "metadata": {
        "id": "k4jwiyjK_QDl",
        "colab_type": "code",
        "colab": {
          "base_uri": "https://localhost:8080/",
          "height": 139
        },
        "outputId": "f6adb27e-4a5c-426b-beaf-e79aad828ba4"
      },
      "source": [
        "print (\"Lista antes da remoção do último elemento: \" + str(minhaLista) + \"\\n\")\n",
        "\n",
        "elementoRemovido = minhaLista.pop()\n",
        "# Remove o último elemento da lista, e o atribui a variável \"elementoRemovido\"\n",
        "\n",
        "print (\"Lista depois da remoção do último elemento: \" + str(minhaLista))\n",
        "print (\"Elemento removido: \" + elementoRemovido + \"\\n\")\n",
        "\n",
        "elementoRemovido = minhaLista.pop(1)\n",
        "# Remove o elemento da lista que ocupa a posição 1, e o atribui a variável \"elementoRemovido\"\n",
        "\n",
        "print (\"Lista depois da remoção do elemento que ocupava a posição 1: \" + str(minhaLista))\n",
        "print (\"Elemento removido: \" + elementoRemovido)"
      ],
      "execution_count": 85,
      "outputs": [
        {
          "output_type": "stream",
          "text": [
            "Lista antes da remoção do último elemento: ['Lucas', 'Abelardo', 'Thayanne', 'Fanny', 'Julio', 'Marquinhos']\n",
            "\n",
            "Lista depois da remoção do último elemento: ['Lucas', 'Abelardo', 'Thayanne', 'Fanny', 'Julio']\n",
            "Elemento removido: Marquinhos\n",
            "\n",
            "Lista depois da remoção do elemento que ocupava a posição 1: ['Lucas', 'Thayanne', 'Fanny', 'Julio']\n",
            "Elemento removido: Abelardo\n"
          ],
          "name": "stdout"
        }
      ]
    },
    {
      "cell_type": "markdown",
      "metadata": {
        "id": "LwI74Utu_QDp",
        "colab_type": "text"
      },
      "source": [
        "**Detalhe**: em alguns momentos das disciplinas de *Programação I* e *Laboratório de Programação II*, você terá que implementar suas próprias funções para inserção e remoção de elementos de uma lista, pois isso é considerado pelos professores uma das várias facilidades que Python oferece. Além do fato de que, como você está aprendendo, é interessante que você entenda como tais métodos funcionam por debaixo dos panos."
      ]
    },
    {
      "cell_type": "markdown",
      "metadata": {
        "id": "72eQ-5Gg_QDr",
        "colab_type": "text"
      },
      "source": [
        "## Iteração\n",
        "\n",
        "Como você já sabe, o *for* é uma ferramenta muito poderosa e muito característica de Python. Com ele, podemos \"varrer\" listas, tuplas ou dicionários.\n",
        "\n",
        "Para iterar sobre uma lista, usa-se a sintaxe padrão do for:\n",
        "\n",
        "```python\n",
        "for <var> in <lista>:\n",
        "    <bloco_de_execucao>\n",
        "```\n",
        "\n",
        "Observe o exemplo abaixo:"
      ]
    },
    {
      "cell_type": "code",
      "metadata": {
        "id": "ykpDxwnv_QDt",
        "colab_type": "code",
        "colab": {
          "base_uri": "https://localhost:8080/",
          "height": 86
        },
        "outputId": "bff649f0-42e4-4042-b515-c338913abfbf"
      },
      "source": [
        "for item in minhaLista:\n",
        "    print(item)"
      ],
      "execution_count": 86,
      "outputs": [
        {
          "output_type": "stream",
          "text": [
            "Lucas\n",
            "Thayanne\n",
            "Fanny\n",
            "Julio\n"
          ],
          "name": "stdout"
        }
      ]
    },
    {
      "cell_type": "markdown",
      "metadata": {
        "id": "QA6jbvUN_QD1",
        "colab_type": "text"
      },
      "source": [
        "O for itera pelos elementos da lista, associando cada valor de minhaLista à variável *item*. Isso pode ser entendido como \"para cada *item* em *minhaLista*, faça:\". Desta forma, quando falamos em *item*, estamos falando do elemento da sequência que está sendo estudado no momento. Primeiro, *item* é \"Lucas\" (o primeiro elemento de *minhaLista*).\n",
        "\n",
        "Outra forma de iterar sobre a lista é sobre seus índices, e para isso utiliza-se a função *range*, que você já deve conhecer, a qual gera uma lista de números que correspondem a uma sequência. Observe o exemplo:"
      ]
    },
    {
      "cell_type": "code",
      "metadata": {
        "id": "UQsJYMxc_QD3",
        "colab_type": "code",
        "colab": {
          "base_uri": "https://localhost:8080/",
          "height": 86
        },
        "outputId": "a32e4617-0af4-44de-fe6e-cb4d9816a65f"
      },
      "source": [
        "tamanho = len(minhaLista) # Aqui, passamos o tamanho da lista para a variável tamanho\n",
        "\n",
        "for index in range(tamanho):\n",
        "    # index assumirá os valores 0, 1, 2 e 3. Assim, podemos acessar os itens da lista pelos seus índices.\n",
        "    print(minhaLista[index])"
      ],
      "execution_count": 87,
      "outputs": [
        {
          "output_type": "stream",
          "text": [
            "Lucas\n",
            "Thayanne\n",
            "Fanny\n",
            "Julio\n"
          ],
          "name": "stdout"
        }
      ]
    },
    {
      "cell_type": "markdown",
      "metadata": {
        "id": "ZzZSBUdz_QD6",
        "colab_type": "text"
      },
      "source": [
        "Os dois exemplos acima produzem exatamente o **mesmo** resultado."
      ]
    }
  ]
}