{
 "cells": [
  {
   "cell_type": "markdown",
   "metadata": {
    "colab_type": "text",
    "id": "02JK42EBNxmc"
   },
   "source": [
    "# Funções\n",
    "  \n",
    "  \n",
    "  \n",
    "As funções são blocos de código identificados por um nome e que podem ter parâmetros predeterminados. Elas servem principalmente para organização do código e a não repetição de blocos. Por fim, uma função também pode ou não retornar algum dado.  \n",
    "  \n",
    "```python\n",
    "def nome_da_funcao():\n",
    "    <bloco_de_codigo_da_funcao>\n",
    "```\n",
    "  \n",
    "Uma função é declarada utilizando a palavra reservada __def__ seguida do __nome__ da função, parênteses, dois pontos e o bloco de código. Um exemplo pode ser visto abaixo:\n",
    "\n",
    "```python\n",
    "def hello():\n",
    "    print \"Hello World!\"\n",
    "```\n",
    "\n",
    "Para executar o bloco de código da função acima, é necessário invocá-la da seguinte forma:\n",
    "\n",
    "```python\n",
    "hello()\n",
    "```\n",
    "\n"
   ]
  },
  {
   "cell_type": "code",
   "execution_count": 1,
   "metadata": {
    "colab": {
     "base_uri": "https://localhost:8080/",
     "height": 34
    },
    "colab_type": "code",
    "executionInfo": {
     "elapsed": 778,
     "status": "ok",
     "timestamp": 1551320727948,
     "user": {
      "displayName": "Jonathan Tavares",
      "photoUrl": "https://lh6.googleusercontent.com/--OzIWmaOAqo/AAAAAAAAAAI/AAAAAAAAAAc/URLBcCmXFPU/s64/photo.jpg",
      "userId": "11936614983095389371"
     },
     "user_tz": 180
    },
    "id": "lbB7L4pc6oGC",
    "outputId": "ea54adb8-4616-4290-c8c8-343d9ad14721"
   },
   "outputs": [
    {
     "name": "stdout",
     "output_type": "stream",
     "text": [
      "Hello\n"
     ]
    }
   ],
   "source": [
    "# declarando a função\n",
    "def hello():\n",
    "  print \"Hello\"\n",
    "  \n",
    "# invocando a função hello\n",
    "hello()"
   ]
  },
  {
   "cell_type": "markdown",
   "metadata": {
    "colab_type": "text",
    "id": "XqdI7wjI7Dao"
   },
   "source": [
    "## Funções com Parâmetros  \n",
    "\n",
    "Como falado anteriormente, as funções também podem receber parâmetros, que nada mais são do que valores que serão utilizados pela função durante a sua execução. Uma função pode ter vários parâmetros, assim como também pode não ter nenhum.\n",
    "\n",
    "```python\n",
    "def nome_da_funcao(parametro1, parametro2, ..., parametroN):\n",
    "    <bloco_de_codigo_da_funcao>\n",
    "```"
   ]
  },
  {
   "cell_type": "code",
   "execution_count": 2,
   "metadata": {
    "colab": {
     "base_uri": "https://localhost:8080/",
     "height": 68
    },
    "colab_type": "code",
    "executionInfo": {
     "elapsed": 798,
     "status": "ok",
     "timestamp": 1551321258986,
     "user": {
      "displayName": "Jonathan Tavares",
      "photoUrl": "https://lh6.googleusercontent.com/--OzIWmaOAqo/AAAAAAAAAAI/AAAAAAAAAAc/URLBcCmXFPU/s64/photo.jpg",
      "userId": "11936614983095389371"
     },
     "user_tz": 180
    },
    "id": "C8q2QZCQ8Xtf",
    "outputId": "b40921da-e8c7-41d4-c480-ef016022f77b"
   },
   "outputs": [
    {
     "name": "stdout",
     "output_type": "stream",
     "text": [
      "Hello Flávia\n",
      "Hello Lucas\n",
      "Hello José\n"
     ]
    }
   ],
   "source": [
    "# declarando a função saudação que recebe um nome como parâmetro\n",
    "def saudacao(nome):\n",
    "   print \"Hello \" + nome\n",
    "\n",
    "# invocando a função saudacao com alguns nomes\n",
    "saudacao(\"Flávia\")\n",
    "saudacao(\"Lucas\")\n",
    "saudacao(\"José\")"
   ]
  },
  {
   "cell_type": "code",
   "execution_count": 3,
   "metadata": {
    "colab": {
     "base_uri": "https://localhost:8080/",
     "height": 68
    },
    "colab_type": "code",
    "executionInfo": {
     "elapsed": 822,
     "status": "ok",
     "timestamp": 1551321532489,
     "user": {
      "displayName": "Jonathan Tavares",
      "photoUrl": "https://lh6.googleusercontent.com/--OzIWmaOAqo/AAAAAAAAAAI/AAAAAAAAAAc/URLBcCmXFPU/s64/photo.jpg",
      "userId": "11936614983095389371"
     },
     "user_tz": 180
    },
    "id": "AQYo95aV9MEt",
    "outputId": "6977a27c-3253-4ec8-ac7c-4deacc3f5d10"
   },
   "outputs": [
    {
     "name": "stdout",
     "output_type": "stream",
     "text": [
      "4\n",
      "8\n",
      "1001\n"
     ]
    }
   ],
   "source": [
    "# declarando a função soma que recebe dois numeros como parametro e soma seus valores\n",
    "def soma(valor1, valor2):\n",
    "  print valor1 + valor2\n",
    "  \n",
    "# invocando a função soma com alguns valores\n",
    "soma(2, 2)\n",
    "soma(4, 4)\n",
    "soma(1000, 1)\n"
   ]
  },
  {
   "cell_type": "markdown",
   "metadata": {
    "colab_type": "text",
    "id": "IGlOmXyq-C_i"
   },
   "source": [
    "## Funções que retornam valores\n",
    "\n",
    "Além de executar operações, uma função também pode retornar um ou mais valores. O retorno é feito com a utilização da palavra reservada __return__. Essa técnica serve para utilizar valores após a execução das operações da função.\n",
    "\n",
    "\n",
    "```python\n",
    "def nome_da_funcao_com_retorno():\n",
    "    return valor_que_sera_retornado\n",
    "```\n",
    "\n",
    "Um exemplo bem simples de entender é uma função de soma. No exemplo visto anteriormente, a função soma apenas imprimia a soma de dois valores. Com o __return__ é possível guardar o valor de soma em uma variável, por exemplo.\n"
   ]
  },
  {
   "cell_type": "code",
   "execution_count": 4,
   "metadata": {
    "colab": {},
    "colab_type": "code",
    "id": "yKmBOAJrAA0X"
   },
   "outputs": [],
   "source": [
    "# declarando a função soma que retorna a soma de dois números\n",
    "def soma(valor1, valor2):\n",
    "  return valor1 + valor2"
   ]
  },
  {
   "cell_type": "markdown",
   "metadata": {
    "colab_type": "text",
    "id": "1-bwlSWpAutN"
   },
   "source": [
    "Com a função retornando a soma dos dois valores passados como parâmetro, é possível agora salvar numa variável o resultado da soma de alguns números"
   ]
  },
  {
   "cell_type": "code",
   "execution_count": 5,
   "metadata": {
    "colab": {
     "base_uri": "https://localhost:8080/",
     "height": 34
    },
    "colab_type": "code",
    "executionInfo": {
     "elapsed": 809,
     "status": "ok",
     "timestamp": 1551322365718,
     "user": {
      "displayName": "Jonathan Tavares",
      "photoUrl": "https://lh6.googleusercontent.com/--OzIWmaOAqo/AAAAAAAAAAI/AAAAAAAAAAc/URLBcCmXFPU/s64/photo.jpg",
      "userId": "11936614983095389371"
     },
     "user_tz": 180
    },
    "id": "j2xXFjipA7UL",
    "outputId": "75952954-fe5f-46fb-b0be-9fee4b8ad717"
   },
   "outputs": [
    {
     "name": "stdout",
     "output_type": "stream",
     "text": [
      "4\n"
     ]
    }
   ],
   "source": [
    "# guardando a soma de 2 + 2\n",
    "soma_de_dois_mais_dois = soma(2, 2)\n",
    "\n",
    "# imprimindo a variavel que recebeu o retorno da função\n",
    "print soma_de_dois_mais_dois"
   ]
  },
  {
   "cell_type": "markdown",
   "metadata": {
    "colab_type": "text",
    "id": "yiRkGjemBW87"
   },
   "source": [
    "Lembrando que é possível retornar qualquer tipo de dados do Python com uma função."
   ]
  },
  {
   "cell_type": "markdown",
   "metadata": {
    "colab_type": "text",
    "id": "-bm-DxCIBfaq"
   },
   "source": [
    "## Funções com e sem efeito colateral\n",
    "\n",
    "Quando fala-se numa função sem efeito colateral, quer dizer que não importa o número de vezes em que aquela função é invocada, sempre terá o mesmo resultado e não irá alterar nenhum dado. Funções com efeito colateral são o oposto disso, pois dependendo de como está estruturado o código da função, alguns valores podem mudar."
   ]
  },
  {
   "cell_type": "code",
   "execution_count": 6,
   "metadata": {
    "colab": {
     "base_uri": "https://localhost:8080/",
     "height": 68
    },
    "colab_type": "code",
    "executionInfo": {
     "elapsed": 821,
     "status": "ok",
     "timestamp": 1551323126797,
     "user": {
      "displayName": "Jonathan Tavares",
      "photoUrl": "https://lh6.googleusercontent.com/--OzIWmaOAqo/AAAAAAAAAAI/AAAAAAAAAAc/URLBcCmXFPU/s64/photo.jpg",
      "userId": "11936614983095389371"
     },
     "user_tz": 180
    },
    "id": "tf03lTBCD2tW",
    "outputId": "439d219b-0f1d-4330-d164-58042cde3c95"
   },
   "outputs": [
    {
     "name": "stdout",
     "output_type": "stream",
     "text": [
      "Hello\n",
      "Hello\n",
      "Hello\n"
     ]
    }
   ],
   "source": [
    "# Exemplo de função sem efeito colateral\n",
    "\n",
    "def hello():\n",
    "  print \"Hello\"\n",
    "  \n",
    "hello()\n",
    "hello()\n",
    "hello()"
   ]
  },
  {
   "cell_type": "markdown",
   "metadata": {
    "colab_type": "text",
    "id": "HpE_CqolEGtu"
   },
   "source": [
    "Não importa quantas vezes a função acima for invocada, ela sempre imprimirá a string \"Hello\"."
   ]
  },
  {
   "cell_type": "code",
   "execution_count": 7,
   "metadata": {
    "colab": {
     "base_uri": "https://localhost:8080/",
     "height": 34
    },
    "colab_type": "code",
    "executionInfo": {
     "elapsed": 764,
     "status": "ok",
     "timestamp": 1551323982909,
     "user": {
      "displayName": "Jonathan Tavares",
      "photoUrl": "https://lh6.googleusercontent.com/--OzIWmaOAqo/AAAAAAAAAAI/AAAAAAAAAAc/URLBcCmXFPU/s64/photo.jpg",
      "userId": "11936614983095389371"
     },
     "user_tz": 180
    },
    "id": "NQqFofVTERLl",
    "outputId": "a6e78b3b-2ee9-4a49-997c-fd77aa622f0d"
   },
   "outputs": [
    {
     "name": "stdout",
     "output_type": "stream",
     "text": [
      "[7.0, 9.5, 10.0]\n"
     ]
    }
   ],
   "source": [
    "# Exemplo de função com efeito colateral\n",
    "\n",
    "# Declara uma lista de médias\n",
    "lista_de_medias = [2.0, 7.0, 9.5, 5.5, 3.5, 10.0]\n",
    "\n",
    "# Declara a função exclui_abaixo_de_sete que irá excluir da lista as médias abaixo de 7.0 \n",
    "def exclui_abaixo_de_sete(lista_de_medias):\n",
    "  for indice in range(len(lista_de_medias) - 1, -1, -1):\n",
    "    media = lista_de_medias[indice]\n",
    "    if media < 7.0:\n",
    "      lista_de_medias.pop(indice)\n",
    "\n",
    "# Invoca a função passando a lista de médias declarada anteriormente \n",
    "exclui_abaixo_de_sete(lista_de_medias)\n",
    "\n",
    "# Imprime a lista de médias\n",
    "print lista_de_medias\n",
    "  "
   ]
  },
  {
   "cell_type": "markdown",
   "metadata": {
    "colab_type": "text",
    "id": "L7xk5HmpHgWP"
   },
   "source": [
    "Observe que, no exemplo acima, o valor de lista_de_medias foi alterado pela função. Por esse motivo, diz-se que a função acima possui efeito colateral sobre a lista de médias, que antes tinha um valor e depois da invocação da função, passa a ter outro. "
   ]
  }
 ],
 "metadata": {
  "colab": {
   "name": "funcoes.ipynb",
   "provenance": [],
   "version": "0.3.2"
  },
  "kernelspec": {
   "display_name": "Python 2",
   "language": "python",
   "name": "python2"
  },
  "language_info": {
   "codemirror_mode": {
    "name": "ipython",
    "version": 2
   },
   "file_extension": ".py",
   "mimetype": "text/x-python",
   "name": "python",
   "nbconvert_exporter": "python",
   "pygments_lexer": "ipython2",
   "version": "2.7.12"
  }
 },
 "nbformat": 4,
 "nbformat_minor": 1
}
