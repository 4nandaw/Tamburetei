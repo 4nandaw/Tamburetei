{
 "cells": [
  {
   "cell_type": "markdown",
   "metadata": {},
   "source": [
    "# Entrada e Saída de Dados \n",
    "\n",
    "\n",
    "Este tutorial tem o objetivo de mostrar brevemente as funções nativas da linguagem Python, utilizadas para entrada e saída padrão.\n",
    "\n",
    "1. print\n",
    "2. raw_input\n",
    "3. casting (int, float, str)"
   ]
  },
  {
   "cell_type": "markdown",
   "metadata": {},
   "source": [
    "## Comando print\n",
    "\n",
    "Na versão 2 da linguagem Python, o comando responsável pela saída padrão de dados é o __print__."
   ]
  },
  {
   "cell_type": "code",
   "execution_count": 1,
   "metadata": {},
   "outputs": [
    {
     "name": "stdout",
     "output_type": "stream",
     "text": [
      "Imprimindo na saida padrao\n"
     ]
    }
   ],
   "source": [
    "print \"Imprimindo na saida padrao\""
   ]
  },
  {
   "cell_type": "code",
   "execution_count": 2,
   "metadata": {},
   "outputs": [
    {
     "name": "stdout",
     "output_type": "stream",
     "text": [
      "O Tamburetei é top!\n"
     ]
    }
   ],
   "source": [
    "print \"O Tamburetei é top!\""
   ]
  },
  {
   "cell_type": "markdown",
   "metadata": {},
   "source": [
    "## Função raw_input()\n",
    "\n",
    "A função __raw_input()__ é a responsável por coletar dados diretamente do teclado, que é a entrada padrão. Os dados coletados pela função vão ser transformadas em string."
   ]
  },
  {
   "cell_type": "code",
   "execution_count": 3,
   "metadata": {},
   "outputs": [
    {
     "name": "stdout",
     "output_type": "stream",
     "text": [
      "O Tamburetei é o melhor projeto do OpenDevUFCG\n",
      "O Tamburetei é o melhor projeto do OpenDevUFCG\n"
     ]
    }
   ],
   "source": [
    "# Espera por uma entrada e salva na variável mensagem\n",
    "mensagem = raw_input()\n",
    "# Imprime o que está em mensagem\n",
    "print mensagem"
   ]
  },
  {
   "cell_type": "markdown",
   "metadata": {},
   "source": [
    "Observe que ao executar o trecho de código acima, o sistema espera que o usuário digite algo para então continuar a execução da próxima instrução.\n",
    "\n",
    "Ainda com a função __raw_input()__ é possível imprimir um texto na saída padrão com o objetivo de auxiliar o usuário no que ele deve digitar. Esse texto deve vir como parâmetro da função.\n",
    "\n",
    "```python\n",
    "variavel_que_guarda_entrada = raw_input(\"Texto de Ajuda\")\n",
    "```"
   ]
  },
  {
   "cell_type": "code",
   "execution_count": 4,
   "metadata": {},
   "outputs": [
    {
     "name": "stdout",
     "output_type": "stream",
     "text": [
      "Digite seu primeiro nome: Matheus\n",
      "Matheus\n"
     ]
    }
   ],
   "source": [
    "# Imprime a string que está como parâmetro em raw_input()\n",
    "# em seguida espera a entrada do teclado e guarda na variável\n",
    "primeiro_nome = raw_input(\"Digite seu primeiro nome: \")\n",
    "# Imprime o que está salvo em primeiro_nome\n",
    "print primeiro_nome"
   ]
  },
  {
   "cell_type": "markdown",
   "metadata": {},
   "source": [
    "## Funções de Casting\n",
    "\n",
    "Como foi mencionado anteriormente, a função raw_input (que serve como entrada padrão de dados), transforma tudo que é recebido pelo teclado em string. Considerando essa informação, como salvar um numero inteiro ou de ponto flutuante? ou imprimir na saída padrão uma string e em seguida um número? Para isso são usadas as funções de casting.\n",
    "\n",
    "Operação de casting é o nome que se dá para a realização de uma conversão de tipos. Do tipo string para o tipo inteiro, por exemplo. Nesse sentido, as funções mais utilizadas são:\n",
    "\n",
    "Nome da Função | O que faz\n",
    "-------------- | ----------\n",
    "str()          | Realiza a conversão de um tipo em string\n",
    "int()          | Realiza a conversão de um tipo em inteiro\n",
    "float()        | Realiza a conversão de um tipo em ponto flutuante\n"
   ]
  },
  {
   "cell_type": "markdown",
   "metadata": {},
   "source": [
    "Realizando a conversão da string recebida da função raw_input() em inteiro:\n",
    "\n",
    "```python\n",
    "converte_string_para_inteiro = int(raw_input(\"Digite um Número Inteiro: \"))\n",
    "```\n",
    "\n",
    "Realizando a conversão da string recebida da função raw_input() em ponto flutuante:\n",
    "\n",
    "```python\n",
    "converte_string_para_float = float(raw_input(\"Digite um Número em Ponto Flutuante: \"))\n",
    "```"
   ]
  },
  {
   "cell_type": "code",
   "execution_count": 5,
   "metadata": {},
   "outputs": [
    {
     "name": "stdout",
     "output_type": "stream",
     "text": [
      "A idade de Lucas: 20\n"
     ]
    }
   ],
   "source": [
    "# Guarda um inteiro na variável idade com valor 20\n",
    "idade = 20\n",
    "# Converte a idade de inteiro para string, concatena com a frase e imprime\n",
    "print \"A idade de Lucas: \" + str(idade)"
   ]
  },
  {
   "cell_type": "code",
   "execution_count": 6,
   "metadata": {},
   "outputs": [
    {
     "name": "stdout",
     "output_type": "stream",
     "text": [
      "A mesa custou 200.0\n"
     ]
    }
   ],
   "source": [
    "# Guarda um ponto flutuante na variável preco com valor 200.00\n",
    "preco = 200.00\n",
    "# Converte o preco de float para string, concatena com a frase e imprime \n",
    "print \"A mesa custou \" + str(preco)"
   ]
  }
 ],
 "metadata": {
  "kernelspec": {
   "display_name": "Python 2",
   "language": "python",
   "name": "python2"
  },
  "language_info": {
   "codemirror_mode": {
    "name": "ipython",
    "version": 2
   },
   "file_extension": ".py",
   "mimetype": "text/x-python",
   "name": "python",
   "nbconvert_exporter": "python",
   "pygments_lexer": "ipython2",
   "version": "2.7.12"
  }
 },
 "nbformat": 4,
 "nbformat_minor": 2
}
