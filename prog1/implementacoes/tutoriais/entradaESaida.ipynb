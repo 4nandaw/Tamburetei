{
  "nbformat": 4,
  "nbformat_minor": 0,
  "metadata": {
    "kernelspec": {
      "name": "python3",
      "display_name": "Python 3"
    },
    "colab": {
      "name": "entradaESaida.ipynb",
      "provenance": []
    }
  },
  "cells": [
    {
      "cell_type": "markdown",
      "metadata": {
        "id": "1jP9N24ZTH5k",
        "colab_type": "text"
      },
      "source": [
        "# Entrada e Saída de Dados \n",
        "\n",
        "\n",
        "Este tutorial tem o objetivo de mostrar brevemente as funções nativas da linguagem Python, utilizadas para entrada e saída padrão.\n",
        "\n",
        "1. print\n",
        "2. input\n",
        "3. casting (int, float, str)"
      ]
    },
    {
      "cell_type": "markdown",
      "metadata": {
        "id": "JZh1-3HNTH5r",
        "colab_type": "text"
      },
      "source": [
        "## Comando print\n",
        "\n",
        "Na versão 2 da linguagem Python, o comando responsável pela saída padrão de dados é o __print__."
      ]
    },
    {
      "cell_type": "code",
      "metadata": {
        "id": "jdiOh1_2TH5v",
        "colab_type": "code",
        "colab": {
          "base_uri": "https://localhost:8080/",
          "height": 34
        },
        "outputId": "70d7f899-d32b-46d3-cc9b-7c6a2cb0f7be"
      },
      "source": [
        "print (\"Imprimindo na saída padrao\")"
      ],
      "execution_count": 19,
      "outputs": [
        {
          "output_type": "stream",
          "text": [
            "Imprimindo na saída padrao\n"
          ],
          "name": "stdout"
        }
      ]
    },
    {
      "cell_type": "code",
      "metadata": {
        "id": "o3EfAPgUTH5-",
        "colab_type": "code",
        "colab": {
          "base_uri": "https://localhost:8080/",
          "height": 34
        },
        "outputId": "2661c5be-4ad5-456f-aa29-67732fe8a1b1"
      },
      "source": [
        "print (\"O Tamburetei é top!\")"
      ],
      "execution_count": 20,
      "outputs": [
        {
          "output_type": "stream",
          "text": [
            "O Tamburetei é top!\n"
          ],
          "name": "stdout"
        }
      ]
    },
    {
      "cell_type": "markdown",
      "metadata": {
        "id": "tAkMDHyxTH6J",
        "colab_type": "text"
      },
      "source": [
        "## Função input()\n",
        "\n",
        "A função __input()__ é a responsável por coletar dados diretamente do teclado, que é a entrada padrão. Os dados coletados pela função vão ser transformadas em string."
      ]
    },
    {
      "cell_type": "code",
      "metadata": {
        "id": "Js4OVxNHTH6L",
        "colab_type": "code",
        "colab": {}
      },
      "source": [
        "# Espera por uma entrada e salva na variável mensagem\n",
        "mensagem = input()\n",
        "# Imprime o que está em mensagem\n",
        "print (mensagem)"
      ],
      "execution_count": 0,
      "outputs": []
    },
    {
      "cell_type": "markdown",
      "metadata": {
        "id": "wk3GFK5cTH6V",
        "colab_type": "text"
      },
      "source": [
        "Observe que ao executar o trecho de código acima, o sistema espera que o usuário digite algo para então continuar a execução da próxima instrução.\n",
        "\n",
        "Ainda com a função __input()__ é possível imprimir um texto na saída padrão com o objetivo de auxiliar o usuário no que ele deve digitar. Esse texto deve vir como parâmetro da função.\n",
        "\n",
        "```python\n",
        "variavel_que_guarda_entrada = input(\"Texto de Ajuda\")\n",
        "```"
      ]
    },
    {
      "cell_type": "code",
      "metadata": {
        "id": "d2JxYrPsTH6Y",
        "colab_type": "code",
        "colab": {}
      },
      "source": [
        "# Imprime a string que está como parâmetro em input()\n",
        "# em seguida espera a entrada do teclado e guarda na variável\n",
        "primeiro_nome = input(\"Digite seu primeiro nome: \")\n",
        "# Imprime o que está salvo em primeiro_nome\n",
        "print (primeiro_nome)"
      ],
      "execution_count": 0,
      "outputs": []
    },
    {
      "cell_type": "markdown",
      "metadata": {
        "id": "HnF6evuZTH6h",
        "colab_type": "text"
      },
      "source": [
        "## Funções de Casting\n",
        "\n",
        "Como foi mencionado anteriormente, a função input (que serve como entrada padrão de dados), transforma tudo que é recebido pelo teclado em string. Considerando essa informação, como salvar um numero inteiro ou de ponto flutuante? ou imprimir na saída padrão uma string e em seguida um número? Para isso são usadas as funções de casting.\n",
        "\n",
        "Operação de casting é o nome que se dá para a realização de uma conversão de tipos. Do tipo string para o tipo inteiro, por exemplo. Nesse sentido, as funções mais utilizadas são:\n",
        "\n",
        "Nome da Função | O que faz\n",
        "-------------- | ----------\n",
        "str()          | Realiza a conversão de um tipo em string\n",
        "int()          | Realiza a conversão de um tipo em inteiro\n",
        "float()        | Realiza a conversão de um tipo em ponto flutuante\n"
      ]
    },
    {
      "cell_type": "markdown",
      "metadata": {
        "id": "iB64AUGpTH6j",
        "colab_type": "text"
      },
      "source": [
        "Realizando a conversão da string recebida da função raw_input() em inteiro:\n",
        "\n",
        "```python\n",
        "converte_string_para_inteiro = int(input(\"Digite um Número Inteiro: \"))\n",
        "```\n",
        "\n",
        "Realizando a conversão da string recebida da função input() em ponto flutuante:\n",
        "\n",
        "```python\n",
        "converte_string_para_float = float(input(\"Digite um Número em Ponto Flutuante: \"))\n",
        "```"
      ]
    },
    {
      "cell_type": "code",
      "metadata": {
        "id": "W-xueXinTH6n",
        "colab_type": "code",
        "colab": {
          "base_uri": "https://localhost:8080/",
          "height": 34
        },
        "outputId": "308726da-4676-4458-937b-99473a77b101"
      },
      "source": [
        "# Guarda um inteiro na variável idade com valor 20\n",
        "idade = 20\n",
        "# Converte a idade de inteiro para string, concatena com a frase e imprime\n",
        "print (\"A idade de Lucas: \" + str(idade))"
      ],
      "execution_count": 23,
      "outputs": [
        {
          "output_type": "stream",
          "text": [
            "A idade de Lucas: 20\n"
          ],
          "name": "stdout"
        }
      ]
    },
    {
      "cell_type": "code",
      "metadata": {
        "id": "9NbsBW8HTH6w",
        "colab_type": "code",
        "colab": {
          "base_uri": "https://localhost:8080/",
          "height": 34
        },
        "outputId": "273b3d3d-7510-44c6-b384-8e90b16aa0bb"
      },
      "source": [
        "# Guarda um ponto flutuante na variável preco com valor 200.00\n",
        "preco = 200.00\n",
        "# Converte o preco de float para string, concatena com a frase e imprime \n",
        "print (\"A mesa custou \" + str(preco) + \" reais\")"
      ],
      "execution_count": 24,
      "outputs": [
        {
          "output_type": "stream",
          "text": [
            "A mesa custou 200.0 reais\n"
          ],
          "name": "stdout"
        }
      ]
    }
  ]
}