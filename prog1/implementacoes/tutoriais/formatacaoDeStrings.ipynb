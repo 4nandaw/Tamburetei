{
  "nbformat": 4,
  "nbformat_minor": 0,
  "metadata": {
    "colab": {
      "name": "formatacaoDeStrings.ipynb",
      "provenance": [],
      "collapsed_sections": []
    },
    "kernelspec": {
      "name": "python3",
      "display_name": "Python 3"
    }
  },
  "cells": [
    {
      "cell_type": "markdown",
      "metadata": {
        "colab_type": "text",
        "id": "WpzpsMsncWz2"
      },
      "source": [
        "Strings\n",
        "====== \n",
        "\n",
        "String (ou **str** em Python) é um tipo especializado que trata justamente do armazenamento de textos. O tipo **str** também é imutável, o que significa que, uma vez declarada uma string, ela não poderá mudar senão pela criação de uma nova string.  \n",
        "\n",
        "\n"
      ]
    },
    {
      "cell_type": "markdown",
      "metadata": {
        "colab_type": "text",
        "id": "RTqKSk6uDi1l"
      },
      "source": [
        "Inicialização de Strings\n",
        "---------------------------\n",
        "\n",
        "A inicialização de strings pode ser feita de diversas maneiras, porém, a mais comum é por aspas **_simples_** ou **_duplas_**."
      ]
    },
    {
      "cell_type": "code",
      "metadata": {
        "colab_type": "code",
        "id": "qZzIq_Nie3xW",
        "colab": {}
      },
      "source": [
        "# aspas simples\n",
        "name = 'Fernando'"
      ],
      "execution_count": 0,
      "outputs": []
    },
    {
      "cell_type": "markdown",
      "metadata": {
        "colab_type": "text",
        "id": "-iOIzPvSmSPs"
      },
      "source": [
        "ou"
      ]
    },
    {
      "cell_type": "code",
      "metadata": {
        "colab_type": "code",
        "id": "s3ptPu4KmUMU",
        "colab": {}
      },
      "source": [
        "# aspas duplas\n",
        "name = \"Fernando\""
      ],
      "execution_count": 0,
      "outputs": []
    },
    {
      "cell_type": "markdown",
      "metadata": {
        "colab_type": "text",
        "id": "nyIR9cm2hxMq"
      },
      "source": [
        "Operações com Strings\n",
        "---------------------------\n",
        "\n",
        "É possível realizar as seguintes operações com strings:\n",
        "  \n",
        "- Concatenação\n",
        "- Interpolação\n",
        "- String como sequência\n",
        "- String como objeto"
      ]
    },
    {
      "cell_type": "markdown",
      "metadata": {
        "colab_type": "text",
        "id": "JAYua-oSEZ0u"
      },
      "source": [
        "### Concatenação\n",
        "\n",
        "A concatenação, por exemplo, gera uma nova string a partir de outras já existentes. Utiliza-se, para isso, o operador de concatenação \"**+**\"."
      ]
    },
    {
      "cell_type": "code",
      "metadata": {
        "colab_type": "code",
        "id": "7rh4TDbs4Zsa",
        "outputId": "4e57cf93-d27c-4ee0-8e91-64d6a61f5ac6",
        "colab": {
          "base_uri": "https://localhost:8080/",
          "height": 34
        }
      },
      "source": [
        "# concatena 3 strings formando uma nova string e imprime\n",
        "print(\"Uma\" + \"Nova\" + \"String\")"
      ],
      "execution_count": 1,
      "outputs": [
        {
          "output_type": "stream",
          "text": [
            "UmaNovaString\n"
          ],
          "name": "stdout"
        }
      ]
    },
    {
      "cell_type": "code",
      "metadata": {
        "colab_type": "code",
        "id": "-Far7h_UAc7d",
        "outputId": "ec4c24f0-f36a-463f-d540-537280a952b6",
        "colab": {
          "base_uri": "https://localhost:8080/",
          "height": 34
        }
      },
      "source": [
        "# inicializa uma string name com o valor \"Fernando\"\n",
        "name = \"Fernando\"\n",
        "\n",
        "# concatena a string \"Hello, \" com a string name\n",
        "print(\"Hello, \" + name)"
      ],
      "execution_count": 3,
      "outputs": [
        {
          "output_type": "stream",
          "text": [
            "Hello, Fernando\n"
          ],
          "name": "stdout"
        }
      ]
    },
    {
      "cell_type": "markdown",
      "metadata": {
        "colab_type": "text",
        "id": "XxabTIDX4sfT"
      },
      "source": [
        "### Interpolação\n",
        "\n",
        "A interpolação trata-se da substituição de símbolos em posições fixas por variáveis de diferentes tipos. Para isso usa-se a letra f antes do inicio da string. Caso precise-se formatar os valores passados usamos os seguintes símbolos interpoladores:\n",
        "\n",
        "- s - string\n",
        "- d - inteiro\n",
        "- o - octal\n",
        "- x - hexadecimal\n",
        "- f - real\n",
        "- e - real exponencial"
      ]
    },
    {
      "cell_type": "code",
      "metadata": {
        "colab_type": "code",
        "id": "uUBt8YzME1Vv",
        "outputId": "1547eff5-53e1-41bd-c5ff-7a1547c47138",
        "colab": {
          "base_uri": "https://localhost:8080/",
          "height": 34
        }
      },
      "source": [
        "# coding: utf-8\n",
        "\n",
        "name = \"Jennifer\"\n",
        "\n",
        "# troca o símbolo de interpolação %s pela string name e imprime\n",
        "print(f\"O nome dela é {name}\")"
      ],
      "execution_count": 6,
      "outputs": [
        {
          "output_type": "stream",
          "text": [
            "O nome dela é Jennifer\n"
          ],
          "name": "stdout"
        }
      ]
    },
    {
      "cell_type": "code",
      "metadata": {
        "colab_type": "code",
        "id": "NhJE-HN9I2Bv",
        "outputId": "b8a73f5f-00da-402b-b1b1-4f062e710ef5",
        "colab": {
          "base_uri": "https://localhost:8080/",
          "height": 34
        }
      },
      "source": [
        "name = \"Jennifer\"\n",
        "age = 20\n",
        "\n",
        "# troca o simbolo {name} pela string name e o {age} pela variável inteira age e imprime\n",
        "print(f\"{name} tem {age} anos\")"
      ],
      "execution_count": 8,
      "outputs": [
        {
          "output_type": "stream",
          "text": [
            "Jennifer tem 20 anos\n"
          ],
          "name": "stdout"
        }
      ]
    },
    {
      "cell_type": "code",
      "metadata": {
        "colab_type": "code",
        "id": "2hxijpHntgT7",
        "outputId": "a997ed3b-e34e-4cfc-89c2-00abe2632d2d",
        "colab": {
          "base_uri": "https://localhost:8080/",
          "height": 51
        }
      },
      "source": [
        "cash = 189.99\n",
        "\n",
        "# troca o símbolo {cash:.1f} pelo valor 189.99 com arredondamento e uma casa decimal\n",
        "print(f\"Khan tem {cash:.1f} dólares no League of Legends\")\n",
        "\n",
        "# para mostrar o exato valor\n",
        "print(f\"Khan tem {cash:.2f} dólares no League of Legends\")"
      ],
      "execution_count": 10,
      "outputs": [
        {
          "output_type": "stream",
          "text": [
            "Khan tem 190.0 dólares no League of Legends\n",
            "Khan tem 189.99 dólares no League of Legends\n"
          ],
          "name": "stdout"
        }
      ]
    },
    {
      "cell_type": "markdown",
      "metadata": {
        "colab_type": "text",
        "id": "0flMzG2rv8eB"
      },
      "source": [
        "### String como sequência\n",
        "\n",
        "As strings, assim como as listas, podem ser tratadas como sequências. Sendo assim, as strings também podem ser: \n",
        "\n",
        "- Iteradas (ou percorridas) \n",
        "- Acessadas por índices \n",
        "- Fatiadas\n"
      ]
    },
    {
      "cell_type": "code",
      "metadata": {
        "colab_type": "code",
        "id": "aYR2Jqot5T3o",
        "outputId": "2d7fbbfd-c63b-4d61-b054-0854ec320e33",
        "colab": {
          "base_uri": "https://localhost:8080/",
          "height": 102
        }
      },
      "source": [
        "# Exemplo com Iteração\n",
        "\n",
        "name = \"Nasus\"\n",
        "\n",
        "# Lê-se: Para cada caractere na variável name, imprima o caractere atual\n",
        "for char in name:\n",
        "  print(char)"
      ],
      "execution_count": 11,
      "outputs": [
        {
          "output_type": "stream",
          "text": [
            "N\n",
            "a\n",
            "s\n",
            "u\n",
            "s\n"
          ],
          "name": "stdout"
        }
      ]
    },
    {
      "cell_type": "code",
      "metadata": {
        "colab_type": "code",
        "id": "Xdts_40HCWNr",
        "outputId": "6d8bc066-5cac-4e49-db35-694f983c4745",
        "colab": {
          "base_uri": "https://localhost:8080/",
          "height": 34
        }
      },
      "source": [
        "# Exemplo com acesso por índice\n",
        "\n",
        "name = \"Ash Ketchum\"\n",
        "\n",
        "# Imprime o caractere de índice 0 e o caractere de índice 4\n",
        "print(f\"{name[0]}. {name[4]}.\")"
      ],
      "execution_count": 14,
      "outputs": [
        {
          "output_type": "stream",
          "text": [
            "A. K.\n"
          ],
          "name": "stdout"
        }
      ]
    },
    {
      "cell_type": "code",
      "metadata": {
        "colab_type": "code",
        "id": "3JiVmf92DbZX",
        "outputId": "19801e51-d7a7-40d2-89ba-63af35d27c2d",
        "colab": {
          "base_uri": "https://localhost:8080/",
          "height": 102
        }
      },
      "source": [
        "# Exemplo com fatiamento (slicing)\n",
        "#\n",
        "# O fatiamento funciona com ATÉ 3 dados assim como a função range\n",
        "# \n",
        "# string[começo:fim+1:intervalo]\n",
        "#\n",
        "# Se o começo ou o intervalo não são definidos, o padrão é 0 e 1, respectivamente.\n",
        "# Se o fim+1 não for definido, será considerado o tamanho do objeto.\n",
        "\n",
        "name = \"Kurosaki Ichigo\"\n",
        "\n",
        "# Imprime da primeira posição até a sétima posição da string name\n",
        "print(name[0:8])\n",
        "\n",
        "# Imprime da nona posição até a décima quinta posição da string name\n",
        "print(name[9:16])\n",
        "\n",
        "# Por padrão, será impresso a string name por completo \n",
        "print(name[:])\n",
        "\n",
        "# Imprime a string name com intervalos de duas letras\n",
        "print(name[::2])\n",
        "\n",
        "# Imprime a string name invertida\n",
        "print(name[::-1])"
      ],
      "execution_count": 16,
      "outputs": [
        {
          "output_type": "stream",
          "text": [
            "Kurosaki\n",
            "Ichigo\n",
            "Kurosaki Ichigo\n",
            "Krsk cio\n",
            "ogihcI ikasoruK\n"
          ],
          "name": "stdout"
        }
      ]
    },
    {
      "cell_type": "markdown",
      "metadata": {
        "colab_type": "text",
        "id": "rnTW3V1QKBi_"
      },
      "source": [
        "### String como Objeto\n",
        "\n",
        "As strings também são objetos no Python, o que significa que pode-se utilizar de alguns métodos nativos da linguagem.  \n",
        "\n",
        "Os métodos são acessados por um ponto (.) logo após a string.  \n",
        "\n",
        "Exemplo:  \n",
        "*string*__.metodo()__"
      ]
    },
    {
      "cell_type": "code",
      "metadata": {
        "colab_type": "code",
        "id": "bes7RxvrQGnV",
        "outputId": "6dd0d64c-000f-4d91-c53f-56c33b9f5a57",
        "colab": {
          "base_uri": "https://localhost:8080/",
          "height": 34
        }
      },
      "source": [
        "name = \"chapolin colorado\"\n",
        "\n",
        "# O método upper() muda todas as letras da string para MAIÚSCULAS.\n",
        "print(name.upper())"
      ],
      "execution_count": 17,
      "outputs": [
        {
          "output_type": "stream",
          "text": [
            "CHAPOLIN COLORADO\n"
          ],
          "name": "stdout"
        }
      ]
    },
    {
      "cell_type": "code",
      "metadata": {
        "colab_type": "code",
        "id": "puJgIOIhRih6",
        "outputId": "dbf082ac-1ab6-4add-a06c-db6cb2e1c412",
        "colab": {
          "base_uri": "https://localhost:8080/",
          "height": 34
        }
      },
      "source": [
        "# coding:utf-8\n",
        "\n",
        "name = \"albert einstein\"\n",
        "\n",
        "# O método capitalize() muda apenas a primeira letra da string para MAIÚSCULA\n",
        "# e todas as demais para MINÚSCULAS.\n",
        "print(name.capitalize())"
      ],
      "execution_count": 19,
      "outputs": [
        {
          "output_type": "stream",
          "text": [
            "Albert einstein\n"
          ],
          "name": "stdout"
        }
      ]
    },
    {
      "cell_type": "markdown",
      "metadata": {
        "colab_type": "text",
        "id": "EE1Jn288SRWe"
      },
      "source": [
        "### Seção Bônus\n",
        "\n",
        "Nesta seção bônus, serão mostrados os seguintes tópicos:\n",
        "\n",
        "- Multiplicação de Strings\n",
        "- Método format()"
      ]
    },
    {
      "cell_type": "code",
      "metadata": {
        "colab_type": "code",
        "id": "Yd5036PrT1G4",
        "outputId": "3057ed0d-fdbb-4ef2-866c-35bf56c6e109",
        "colab": {
          "base_uri": "https://localhost:8080/",
          "height": 51
        }
      },
      "source": [
        "# Exemplo de Multiplicação de Strings\n",
        "\n",
        "# Imprime a string \"Hello\" 3x\n",
        "print(\"Hello\" * 3)\n",
        "\n",
        "# É o equivalente ao seguinte código\n",
        "print(\"Hello\" + \"Hello\" + \"Hello\")"
      ],
      "execution_count": 20,
      "outputs": [
        {
          "output_type": "stream",
          "text": [
            "HelloHelloHello\n",
            "HelloHelloHello\n"
          ],
          "name": "stdout"
        }
      ]
    },
    {
      "cell_type": "code",
      "metadata": {
        "colab_type": "code",
        "id": "S0L7j0juUfTJ",
        "outputId": "bd6ec8fc-faa1-4ee4-dcab-80b978543a75",
        "colab": {
          "base_uri": "https://localhost:8080/",
          "height": 68
        }
      },
      "source": [
        "# Exemplos de alguns casos de uso do método format()\n",
        "\n",
        "best_game = \"Fortnite\"\n",
        "company = \"Epic Games\"\n",
        "\n",
        "# Neste exemplo os parametros vão ser trocados em ordem como na interpolação\n",
        "print(\"{} é o melhor jogo da {}.\".format(best_game, company))\n",
        "\n",
        "# Neste exemplo os parametros vão ser trocados pelas palavras-chave\n",
        "print(\"{best_game} é o melhor jogo da {company}.\".format(best_game=\"League of Legends\", company=\"Riot Games\"))\n",
        "\n",
        "# Neste exemplo as palavras-chave hora e minuto são formatadas com 2 inteiros\n",
        "# se não tiver, como é o caso da hora que é 7, adiciona-se um 0 a esquerda\n",
        "# para completar\n",
        "print(\"{saudacao}, são {hora:02d}:{minuto:02d}.\".format(saudacao=\"Bom dia\", hora=7, minuto=30))"
      ],
      "execution_count": 28,
      "outputs": [
        {
          "output_type": "stream",
          "text": [
            "Fortnite é o melhor jogo da Epic Games.\n",
            "League of Legends é o melhor jogo da Riot Games.\n",
            "Bom dia, são 07:30.\n"
          ],
          "name": "stdout"
        }
      ]
    }
  ]
}