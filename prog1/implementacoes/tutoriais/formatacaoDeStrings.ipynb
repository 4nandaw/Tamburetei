{
 "cells": [
  {
   "cell_type": "markdown",
   "metadata": {
    "colab_type": "text",
    "id": "WpzpsMsncWz2"
   },
   "source": [
    "Strings\n",
    "====== \n",
    "\n",
    "String (ou **str** em Python) é um tipo especializado que trata justamente do armazenamento de textos. O tipo **str** também é imutável, o que significa que, uma vez declarada uma string, ela não poderá mudar senão pela criação de uma nova string.  \n",
    "\n",
    "\n"
   ]
  },
  {
   "cell_type": "markdown",
   "metadata": {
    "colab_type": "text",
    "id": "RTqKSk6uDi1l"
   },
   "source": [
    "Inicialização de Strings\n",
    "---------------------------\n",
    "\n",
    "A inicialização de strings pode ser feita de diversas maneiras, porém, a mais comum é por aspas **_simples_** ou **_duplas_**."
   ]
  },
  {
   "cell_type": "code",
   "execution_count": 1,
   "metadata": {
    "colab": {},
    "colab_type": "code",
    "id": "qZzIq_Nie3xW"
   },
   "outputs": [],
   "source": [
    "# aspas simples\n",
    "name = 'Fernando'"
   ]
  },
  {
   "cell_type": "markdown",
   "metadata": {
    "colab_type": "text",
    "id": "-iOIzPvSmSPs"
   },
   "source": [
    "ou"
   ]
  },
  {
   "cell_type": "code",
   "execution_count": 2,
   "metadata": {
    "colab": {},
    "colab_type": "code",
    "id": "s3ptPu4KmUMU"
   },
   "outputs": [],
   "source": [
    "# aspas duplas\n",
    "name = \"Fernando\""
   ]
  },
  {
   "cell_type": "markdown",
   "metadata": {
    "colab_type": "text",
    "id": "nyIR9cm2hxMq"
   },
   "source": [
    "Operações com Strings\n",
    "---------------------------\n",
    "\n",
    "É possível realizar as seguintes operações com strings:\n",
    "  \n",
    "- Concatenação\n",
    "- Interpolação\n",
    "- String como sequência\n",
    "- String como objeto"
   ]
  },
  {
   "cell_type": "markdown",
   "metadata": {
    "colab_type": "text",
    "id": "JAYua-oSEZ0u"
   },
   "source": [
    "### Concatenação\n",
    "\n",
    "A concatenação, por exemplo, gera uma nova string a partir de outras já existentes. Utiliza-se, para isso, o operador de concatenação \"**+**\"."
   ]
  },
  {
   "cell_type": "code",
   "execution_count": 3,
   "metadata": {
    "colab": {
     "base_uri": "https://localhost:8080/",
     "height": 36
    },
    "colab_type": "code",
    "executionInfo": {
     "elapsed": 938,
     "status": "ok",
     "timestamp": 1550095373942,
     "user": {
      "displayName": "Jonathan Tavares",
      "photoUrl": "https://lh6.googleusercontent.com/--OzIWmaOAqo/AAAAAAAAAAI/AAAAAAAAAAc/URLBcCmXFPU/s64/photo.jpg",
      "userId": "11936614983095389371"
     },
     "user_tz": 180
    },
    "id": "7rh4TDbs4Zsa",
    "outputId": "dd4e9ef3-40ef-4b94-a7de-edfe765b2417"
   },
   "outputs": [
    {
     "name": "stdout",
     "output_type": "stream",
     "text": [
      "UmaNovaString\n"
     ]
    }
   ],
   "source": [
    "# coding: utf-8\n",
    "\n",
    "# concatena 3 strings formando uma nova string e imprime\n",
    "print \"Uma\" + \"Nova\" + \"String\""
   ]
  },
  {
   "cell_type": "code",
   "execution_count": 4,
   "metadata": {
    "colab": {
     "base_uri": "https://localhost:8080/",
     "height": 36
    },
    "colab_type": "code",
    "executionInfo": {
     "elapsed": 896,
     "status": "ok",
     "timestamp": 1550097662555,
     "user": {
      "displayName": "Jonathan Tavares",
      "photoUrl": "https://lh6.googleusercontent.com/--OzIWmaOAqo/AAAAAAAAAAI/AAAAAAAAAAc/URLBcCmXFPU/s64/photo.jpg",
      "userId": "11936614983095389371"
     },
     "user_tz": 180
    },
    "id": "-Far7h_UAc7d",
    "outputId": "9804e934-650f-4b5f-8f7e-52440c51d7a3"
   },
   "outputs": [
    {
     "name": "stdout",
     "output_type": "stream",
     "text": [
      "Hello, Fernando\n"
     ]
    }
   ],
   "source": [
    "# coding utf-8\n",
    "\n",
    "# inicializa uma string name com o valor \"Fernando\"\n",
    "name = \"Fernando\"\n",
    "\n",
    "# concatena a string \"Hello, \" com a string name\n",
    "print \"Hello, \" + name"
   ]
  },
  {
   "cell_type": "markdown",
   "metadata": {
    "colab_type": "text",
    "id": "XxabTIDX4sfT"
   },
   "source": [
    "### Interpolação\n",
    "\n",
    "A interpolação trata-se da substituição de símbolos em posições fixas por variáveis de diferentes tipos. Para isso são usados os seguintes símbolos interpoladores:\n",
    "\n",
    "- %s - string\n",
    "- %d - inteiro\n",
    "- %o - octal\n",
    "- %x - hexadecimal\n",
    "- %f - real\n",
    "- %e - real exponencial\n",
    "- %% - sinal de porcentagem"
   ]
  },
  {
   "cell_type": "code",
   "execution_count": 5,
   "metadata": {
    "colab": {
     "base_uri": "https://localhost:8080/",
     "height": 36
    },
    "colab_type": "code",
    "executionInfo": {
     "elapsed": 1078,
     "status": "ok",
     "timestamp": 1550099598347,
     "user": {
      "displayName": "Jonathan Tavares",
      "photoUrl": "https://lh6.googleusercontent.com/--OzIWmaOAqo/AAAAAAAAAAI/AAAAAAAAAAc/URLBcCmXFPU/s64/photo.jpg",
      "userId": "11936614983095389371"
     },
     "user_tz": 180
    },
    "id": "uUBt8YzME1Vv",
    "outputId": "0a4e8660-11e4-4878-cffc-7c0fd5789685"
   },
   "outputs": [
    {
     "name": "stdout",
     "output_type": "stream",
     "text": [
      "O nome dela é Jennifer\n"
     ]
    }
   ],
   "source": [
    "# coding: utf-8\n",
    "\n",
    "name = \"Jennifer\"\n",
    "\n",
    "# troca o símbolo de interpolação %s pela string name e imprime\n",
    "print \"O nome dela é %s\" % name"
   ]
  },
  {
   "cell_type": "code",
   "execution_count": 6,
   "metadata": {
    "colab": {
     "base_uri": "https://localhost:8080/",
     "height": 36
    },
    "colab_type": "code",
    "executionInfo": {
     "elapsed": 856,
     "status": "ok",
     "timestamp": 1550099808005,
     "user": {
      "displayName": "Jonathan Tavares",
      "photoUrl": "https://lh6.googleusercontent.com/--OzIWmaOAqo/AAAAAAAAAAI/AAAAAAAAAAc/URLBcCmXFPU/s64/photo.jpg",
      "userId": "11936614983095389371"
     },
     "user_tz": 180
    },
    "id": "NhJE-HN9I2Bv",
    "outputId": "0c586142-449b-42fc-db95-b30fff634025"
   },
   "outputs": [
    {
     "name": "stdout",
     "output_type": "stream",
     "text": [
      "Jennifer tem 20 anos\n"
     ]
    }
   ],
   "source": [
    "# coding: utf-8\n",
    "\n",
    "name = \"Jennifer\"\n",
    "age = 20\n",
    "\n",
    "# troca o simbolo %s pela string name e o %d pela variável inteira age e imprime\n",
    "print \"%s tem %d anos\" % (name, age)"
   ]
  },
  {
   "cell_type": "code",
   "execution_count": 2,
   "metadata": {
    "colab": {
     "base_uri": "https://localhost:8080/",
     "height": 55
    },
    "colab_type": "code",
    "executionInfo": {
     "elapsed": 1077,
     "status": "ok",
     "timestamp": 1550244069666,
     "user": {
      "displayName": "Jonathan Tavares",
      "photoUrl": "https://lh6.googleusercontent.com/--OzIWmaOAqo/AAAAAAAAAAI/AAAAAAAAAAc/URLBcCmXFPU/s64/photo.jpg",
      "userId": "11936614983095389371"
     },
     "user_tz": 180
    },
    "id": "2hxijpHntgT7",
    "outputId": "f6002d87-cd1d-4cbf-c3a6-a34ff8df8507"
   },
   "outputs": [
    {
     "name": "stdout",
     "output_type": "stream",
     "text": [
      "Khan tem 190.0 dólares no League of Legends\n",
      "Khan tem 189.99 dólares no League of Legends\n"
     ]
    }
   ],
   "source": [
    "# coding: utf-8\n",
    "\n",
    "cash = 189.99\n",
    "\n",
    "# troca o símbolo %.1f pelo valor 189.99 com arredondamento e uma casa decimal\n",
    "print \"Khan tem %.1f dólares no League of Legends\" % cash\n",
    "\n",
    "# para mostrar o exato valor\n",
    "print \"Khan tem %.2f dólares no League of Legends\" % cash"
   ]
  },
  {
   "cell_type": "markdown",
   "metadata": {
    "colab_type": "text",
    "id": "0flMzG2rv8eB"
   },
   "source": [
    "### String como sequência\n",
    "\n",
    "As strings, assim como as listas, podem ser tratadas como sequências. Sendo assim, as strings também podem ser: \n",
    "\n",
    "- Iteradas (ou percorridas) \n",
    "- Acessadas por índices \n",
    "- Fatiadas\n"
   ]
  },
  {
   "cell_type": "code",
   "execution_count": 8,
   "metadata": {
    "colab": {
     "base_uri": "https://localhost:8080/",
     "height": 112
    },
    "colab_type": "code",
    "executionInfo": {
     "elapsed": 877,
     "status": "ok",
     "timestamp": 1550246783994,
     "user": {
      "displayName": "Jonathan Tavares",
      "photoUrl": "https://lh6.googleusercontent.com/--OzIWmaOAqo/AAAAAAAAAAI/AAAAAAAAAAc/URLBcCmXFPU/s64/photo.jpg",
      "userId": "11936614983095389371"
     },
     "user_tz": 180
    },
    "id": "aYR2Jqot5T3o",
    "outputId": "9e264289-f6e3-4a8d-f869-2d564615f82d"
   },
   "outputs": [
    {
     "name": "stdout",
     "output_type": "stream",
     "text": [
      "N\n",
      "a\n",
      "s\n",
      "u\n",
      "s\n"
     ]
    }
   ],
   "source": [
    "# coding: utf-8\n",
    "\n",
    "# Exemplo com Iteração\n",
    "\n",
    "name = \"Nasus\"\n",
    "\n",
    "# Lê-se: Para cada caractere na variável name, imprima o caractere atual\n",
    "for char in name:\n",
    "  print char"
   ]
  },
  {
   "cell_type": "code",
   "execution_count": 9,
   "metadata": {
    "colab": {
     "base_uri": "https://localhost:8080/",
     "height": 36
    },
    "colab_type": "code",
    "executionInfo": {
     "elapsed": 40400,
     "status": "ok",
     "timestamp": 1550249185409,
     "user": {
      "displayName": "Jonathan Tavares",
      "photoUrl": "https://lh6.googleusercontent.com/--OzIWmaOAqo/AAAAAAAAAAI/AAAAAAAAAAc/URLBcCmXFPU/s64/photo.jpg",
      "userId": "11936614983095389371"
     },
     "user_tz": 180
    },
    "id": "Xdts_40HCWNr",
    "outputId": "875c1f3f-f480-4da3-e4bd-1300ddba7c6d"
   },
   "outputs": [
    {
     "name": "stdout",
     "output_type": "stream",
     "text": [
      "A. K.\n"
     ]
    }
   ],
   "source": [
    "# coding: utf-8\n",
    "\n",
    "# Exemplo com acesso por índice\n",
    "\n",
    "name = \"Ash Ketchum\"\n",
    "\n",
    "# Imprime o caractere de índice 0 e o caractere de índice 4\n",
    "print name[0] + \". \" + name[4] + \".\""
   ]
  },
  {
   "cell_type": "code",
   "execution_count": 10,
   "metadata": {
    "colab": {
     "base_uri": "https://localhost:8080/",
     "height": 112
    },
    "colab_type": "code",
    "executionInfo": {
     "elapsed": 893,
     "status": "ok",
     "timestamp": 1550250264145,
     "user": {
      "displayName": "Jonathan Tavares",
      "photoUrl": "https://lh6.googleusercontent.com/--OzIWmaOAqo/AAAAAAAAAAI/AAAAAAAAAAc/URLBcCmXFPU/s64/photo.jpg",
      "userId": "11936614983095389371"
     },
     "user_tz": 180
    },
    "id": "3JiVmf92DbZX",
    "outputId": "b321bc89-d789-4a14-abb0-651bb55735ac"
   },
   "outputs": [
    {
     "name": "stdout",
     "output_type": "stream",
     "text": [
      "Kurosaki\n",
      "Ichigo\n",
      "Kurosaki Ichigo\n",
      "Krsk cio\n",
      "ogihcI ikasoruK\n"
     ]
    }
   ],
   "source": [
    "# coding: utf-8\n",
    "\n",
    "# Exemplo com fatiamento (slicing)\n",
    "#\n",
    "# O fatiamento funciona com ATÉ 3 dados assim como a função range\n",
    "# \n",
    "# string[começo:fim+1:intervalo]\n",
    "#\n",
    "# Se o começo ou o intervalo não são definidos, o padrão é 0 e 1, respectivamente.\n",
    "# Se o fim+1 não for definido, será considerado o tamanho do objeto.\n",
    "\n",
    "name = \"Kurosaki Ichigo\"\n",
    "\n",
    "# Imprime da primeira posição até a sétima posição da string name\n",
    "print name[0:8]\n",
    "\n",
    "# Imprime da nona posição até a décima quinta posição da string name\n",
    "print name[9:16]\n",
    "\n",
    "# Por padrão, será impresso a string name por completo \n",
    "print name[::]\n",
    "\n",
    "# Imprime a string name com intervalos de duas letras\n",
    "print name[::2]\n",
    "\n",
    "# Imprime a string name invertida\n",
    "print name[::-1]"
   ]
  },
  {
   "cell_type": "markdown",
   "metadata": {
    "colab_type": "text",
    "id": "rnTW3V1QKBi_"
   },
   "source": [
    "### String como Objeto\n",
    "\n",
    "As strings também são objetos no Python, o que significa que pode-se utilizar de alguns métodos nativos da linguagem.  \n",
    "\n",
    "Os métodos são acessados por um ponto (.) logo após a string.  \n",
    "\n",
    "Exemplo:  \n",
    "*string*__.metodo()__"
   ]
  },
  {
   "cell_type": "code",
   "execution_count": 11,
   "metadata": {
    "colab": {
     "base_uri": "https://localhost:8080/",
     "height": 36
    },
    "colab_type": "code",
    "executionInfo": {
     "elapsed": 912,
     "status": "ok",
     "timestamp": 1550252882490,
     "user": {
      "displayName": "Jonathan Tavares",
      "photoUrl": "https://lh6.googleusercontent.com/--OzIWmaOAqo/AAAAAAAAAAI/AAAAAAAAAAc/URLBcCmXFPU/s64/photo.jpg",
      "userId": "11936614983095389371"
     },
     "user_tz": 180
    },
    "id": "bes7RxvrQGnV",
    "outputId": "c7e281eb-1b50-4ab2-f96e-8e5cf92a4c8a"
   },
   "outputs": [
    {
     "name": "stdout",
     "output_type": "stream",
     "text": [
      "CHAPOLIN COLORADO\n"
     ]
    }
   ],
   "source": [
    "# coding: utf-8\n",
    "\n",
    "name = \"chapolin colorado\"\n",
    "\n",
    "# O método upper() muda todas as letras da string para MAIÚSCULAS.\n",
    "print name.upper()"
   ]
  },
  {
   "cell_type": "code",
   "execution_count": 12,
   "metadata": {
    "colab": {
     "base_uri": "https://localhost:8080/",
     "height": 36
    },
    "colab_type": "code",
    "executionInfo": {
     "elapsed": 944,
     "status": "ok",
     "timestamp": 1550253072523,
     "user": {
      "displayName": "Jonathan Tavares",
      "photoUrl": "https://lh6.googleusercontent.com/--OzIWmaOAqo/AAAAAAAAAAI/AAAAAAAAAAc/URLBcCmXFPU/s64/photo.jpg",
      "userId": "11936614983095389371"
     },
     "user_tz": 180
    },
    "id": "puJgIOIhRih6",
    "outputId": "5cf38b9c-aa4e-4477-9a95-7f87baf7e77a"
   },
   "outputs": [
    {
     "name": "stdout",
     "output_type": "stream",
     "text": [
      "Albert einstein\n"
     ]
    }
   ],
   "source": [
    "# coding:utf-8\n",
    "\n",
    "name = \"albert einstein\"\n",
    "\n",
    "# O método capitalize() muda apenas a primeira letra da string para MAIÚSCULA\n",
    "# e todas as demais para MINÚSCULAS.\n",
    "print name.capitalize()"
   ]
  },
  {
   "cell_type": "markdown",
   "metadata": {
    "colab_type": "text",
    "id": "EE1Jn288SRWe"
   },
   "source": [
    "### Seção Bônus\n",
    "\n",
    "Nesta seção bônus, serão mostrados os seguintes tópicos:\n",
    "\n",
    "- Multiplicação de Strings\n",
    "- Método format()"
   ]
  },
  {
   "cell_type": "code",
   "execution_count": 13,
   "metadata": {
    "colab": {
     "base_uri": "https://localhost:8080/",
     "height": 55
    },
    "colab_type": "code",
    "executionInfo": {
     "elapsed": 1011,
     "status": "ok",
     "timestamp": 1550253646443,
     "user": {
      "displayName": "Jonathan Tavares",
      "photoUrl": "https://lh6.googleusercontent.com/--OzIWmaOAqo/AAAAAAAAAAI/AAAAAAAAAAc/URLBcCmXFPU/s64/photo.jpg",
      "userId": "11936614983095389371"
     },
     "user_tz": 180
    },
    "id": "Yd5036PrT1G4",
    "outputId": "94bc9fa3-d9cf-406e-a624-42976d92be7a"
   },
   "outputs": [
    {
     "name": "stdout",
     "output_type": "stream",
     "text": [
      "HelloHelloHello\n",
      "HelloHelloHello\n"
     ]
    }
   ],
   "source": [
    "# coding: utf-8\n",
    "\n",
    "# Exemplo de Multiplicação de Strings\n",
    "\n",
    "# Imprime a string \"Hello\" 3x\n",
    "print \"Hello\" * 3\n",
    "\n",
    "# É o equivalente ao seguinte código\n",
    "print \"Hello\" + \"Hello\" + \"Hello\""
   ]
  },
  {
   "cell_type": "code",
   "execution_count": 14,
   "metadata": {
    "colab": {
     "base_uri": "https://localhost:8080/",
     "height": 74
    },
    "colab_type": "code",
    "executionInfo": {
     "elapsed": 803,
     "status": "ok",
     "timestamp": 1550254808604,
     "user": {
      "displayName": "Jonathan Tavares",
      "photoUrl": "https://lh6.googleusercontent.com/--OzIWmaOAqo/AAAAAAAAAAI/AAAAAAAAAAc/URLBcCmXFPU/s64/photo.jpg",
      "userId": "11936614983095389371"
     },
     "user_tz": 180
    },
    "id": "S0L7j0juUfTJ",
    "outputId": "9b894b06-1c58-4ccb-fa41-67ff0ce09fc9"
   },
   "outputs": [
    {
     "name": "stdout",
     "output_type": "stream",
     "text": [
      "Fortnite é o melhor jogo da Epic Games.\n",
      "League of Legends é o melhor jogo da Riot Games.\n",
      "Bom dia, são 07:30.\n"
     ]
    }
   ],
   "source": [
    "# coding: utf-8\n",
    "\n",
    "# Exemplos de alguns casos de uso do método format()\n",
    "\n",
    "best_game = \"Fortnite\"\n",
    "company = \"Epic Games\"\n",
    "\n",
    "# Neste exemplo os parametros vão ser trocados em ordem como na interpolação\n",
    "print \"{0} é o melhor jogo da {1}.\".format(best_game, company)\n",
    "\n",
    "# Neste exemplo os parametros vão ser trocados pelas palavras-chave\n",
    "print \"{best_game} é o melhor jogo da {company}.\".format(best_game=\"League of Legends\", company=\"Riot Games\")\n",
    "\n",
    "# Neste exemplo as palavras-chave hora e minuto são formatadas com 2 inteiros\n",
    "# se não tiver, como é o caso da hora que é 7, adiciona-se um 0 a esquerda\n",
    "# para completar\n",
    "print \"{saudacao}, são {hora:02d}:{minuto:02d}.\".format(saudacao=\"Bom dia\", hora=7, minuto=30)"
   ]
  }
 ],
 "metadata": {
  "colab": {
   "collapsed_sections": [],
   "name": "formataçãoDeStrings.ipynb",
   "provenance": [],
   "version": "0.3.2"
  },
  "kernelspec": {
   "display_name": "Python 2",
   "language": "python",
   "name": "python2"
  },
  "language_info": {
   "codemirror_mode": {
    "name": "ipython",
    "version": 2
   },
   "file_extension": ".py",
   "mimetype": "text/x-python",
   "name": "python",
   "nbconvert_exporter": "python",
   "pygments_lexer": "ipython2",
   "version": "2.7.12"
  }
 },
 "nbformat": 4,
 "nbformat_minor": 1
}
